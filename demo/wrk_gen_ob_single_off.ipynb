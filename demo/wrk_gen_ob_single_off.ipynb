{
 "cells": [
  {
   "cell_type": "code",
   "execution_count": 1,
   "id": "f7cf7f22",
   "metadata": {},
   "outputs": [],
   "source": [
    "%load_ext autoreload\n",
    "%autoreload 2\n",
    "%matplotlib inline"
   ]
  },
  {
   "cell_type": "code",
   "execution_count": 2,
   "id": "3d3ef4c2",
   "metadata": {},
   "outputs": [],
   "source": [
    "from astropy.table import Table\n",
    "import gravity_obs.p2_tools as p2t"
   ]
  },
  {
   "cell_type": "code",
   "execution_count": 3,
   "id": "31296f1f",
   "metadata": {},
   "outputs": [],
   "source": [
    "table_path = '../../gvprep/tabs/star_k12mag_grp10-12mag_gaia.ipac'\n",
    "tb = Table.read(table_path, format='ascii.ipac')"
   ]
  },
  {
   "cell_type": "code",
   "execution_count": 4,
   "id": "331ddb1a",
   "metadata": {},
   "outputs": [
    {
     "data": {
      "text/html": [
       "<div><i>Table length=11</i>\n",
       "<table id=\"table4658047056\" class=\"table-striped table-bordered table-condensed\">\n",
       "<thead><tr><th>name</th><th>ra_2000_hms</th><th>dec_2000_dms</th><th>ra_2000</th><th>dec_2000</th><th>H</th><th>K</th><th>parallax</th><th>pm</th><th>pmra</th><th>pmdec</th><th>radial_velocity</th><th>Grp</th><th>G</th><th>ra_2016</th><th>dec_2016</th><th>source_id</th></tr></thead>\n",
       "<thead><tr><th></th><th></th><th></th><th></th><th></th><th>mag</th><th>mag</th><th>mas</th><th>mas / yr</th><th>mas / yr</th><th>mas / yr</th><th>km / s</th><th>mag</th><th>mag</th><th>deg</th><th>deg</th><th></th></tr></thead>\n",
       "<thead><tr><th>str28</th><th>str12</th><th>str13</th><th>float64</th><th>float64</th><th>float64</th><th>float64</th><th>float64</th><th>float64</th><th>float64</th><th>float64</th><th>float64</th><th>float64</th><th>float64</th><th>float64</th><th>float64</th><th>int64</th></tr></thead>\n",
       "<tr><td>Gaia DR3 5142488558250979328</td><td>01:46:31.941</td><td>-16:22:37.834</td><td>26.633086526145192</td><td>-16.37717622886039</td><td>12.06499958</td><td>12.052000046</td><td>0.452</td><td>5.476</td><td>-0.53</td><td>-5.45</td><td>--</td><td>11.887556</td><td>11.805489</td><td>26.63308407318</td><td>-16.37720045152</td><td>5142488558250979328</td></tr>\n",
       "<tr><td>Gaia DR3 5084896688945791232</td><td>03:33:14.647</td><td>-25:52:17.978</td><td>53.3110285533144</td><td>-25.87166045774542</td><td>12.288999557</td><td>12.37100029</td><td>2.5197</td><td>26.985</td><td>1.777</td><td>26.927</td><td>--</td><td>11.620219</td><td>11.249787</td><td>53.31103732933</td><td>-25.87154078439</td><td>5084896688945791232</td></tr>\n",
       "<tr><td>Gaia DR3 4883474679951350656</td><td>04:01:05.312</td><td>-32:23:46.026</td><td>60.2721352444382</td><td>-32.396118251637056</td><td>11.937000275</td><td>12.017000198</td><td>5.4289</td><td>32.76</td><td>32.688</td><td>-2.17</td><td>--</td><td>11.416053</td><td>11.149598</td><td>60.2723073016</td><td>-32.39612789606</td><td>4883474679951350656</td></tr>\n",
       "<tr><td>Gaia DR3 4891229020066458496</td><td>04:29:08.372</td><td>-28:47:33.903</td><td>67.28488536199974</td><td>-28.792750929792273</td><td>12.074999809</td><td>12.121999741</td><td>0.2499</td><td>2.084</td><td>0.249</td><td>-2.069</td><td>--</td><td>11.761063</td><td>11.601466</td><td>67.2848866249</td><td>-28.79276012627</td><td>4891229020066458496</td></tr>\n",
       "<tr><td>Gaia DR3 3171401381762257280</td><td>04:31:51.983</td><td>-17:16:45.626</td><td>67.96659695305551</td><td>-17.279340419978528</td><td>12.045999527</td><td>12.015999794</td><td>0.2479</td><td>2.938</td><td>2.897</td><td>-0.487</td><td>--</td><td>11.866324</td><td>11.751601</td><td>67.96661043766</td><td>-17.27934258484</td><td>3171401381762257280</td></tr>\n",
       "<tr><td>Gaia DR3 6855176517802163456</td><td>20:43:46.809</td><td>-22:10:30.073</td><td>310.94503816160056</td><td>-22.175020399271638</td><td>9.2930002213</td><td>12.027000427</td><td>7.0276</td><td>39.24</td><td>22.188</td><td>-32.365</td><td>-16.24</td><td>10.437988</td><td>11.375767</td><td>310.94514465336</td><td>-22.17516424321</td><td>6855176517802163456</td></tr>\n",
       "<tr><td>Gaia DR3 6805917533587127936</td><td>20:51:29.867</td><td>-24:09:05.141</td><td>312.8744459313909</td><td>-24.151428127987316</td><td>12.133000374</td><td>12.142000198</td><td>0.213</td><td>11.721</td><td>-4.772</td><td>-10.705</td><td>--</td><td>11.865927</td><td>11.740895</td><td>312.87442268965</td><td>-24.15147570763</td><td>6805917533587127936</td></tr>\n",
       "<tr><td>Gaia DR3 6624328240456787840</td><td>22:38:54.217</td><td>-23:52:20.921</td><td>339.7259045265013</td><td>-23.872478140354218</td><td>12.25399971</td><td>12.296999931</td><td>0.1713</td><td>8.156</td><td>4.06</td><td>-7.074</td><td>--</td><td>11.90729</td><td>11.719517</td><td>339.72592425944</td><td>-23.87250957945</td><td>6624328240456787840</td></tr>\n",
       "<tr><td>Gaia DR3 6549420162524602112</td><td>23:10:13.596</td><td>-39:19:37.719</td><td>347.55665159959</td><td>-39.327144120530384</td><td>9.9359998703</td><td>12.909000397</td><td>6.8031</td><td>40.095</td><td>40.053</td><td>-1.823</td><td>--</td><td>11.692457</td><td>12.372977</td><td>347.55688173008</td><td>-39.32715222129</td><td>6549420162524602112</td></tr>\n",
       "<tr><td>Gaia DR3 6551622763487459584</td><td>23:21:42.758</td><td>-36:50:11.143</td><td>350.4281577488309</td><td>-36.83642860387515</td><td>9.3710002899</td><td>12.255000114</td><td>1.1972</td><td>3.215</td><td>2.737</td><td>-1.687</td><td>75.77</td><td>10.629291</td><td>11.312392</td><td>350.42817294963</td><td>-36.83643610117</td><td>6551622763487459584</td></tr>\n",
       "<tr><td>Gaia DR3 2394414237109269248</td><td>23:48:09.820</td><td>-16:58:54.603</td><td>357.04091595186463</td><td>-16.981834228926683</td><td>12.18599987</td><td>12.251000404</td><td>0.2873</td><td>8.691</td><td>-4.52</td><td>-7.423</td><td>--</td><td>11.909728</td><td>11.761273</td><td>357.04089494942</td><td>-16.9818672203</td><td>2394414237109269248</td></tr>\n",
       "</table></div>"
      ],
      "text/plain": [
       "<Table length=11>\n",
       "            name             ra_2000_hms  ...      source_id     \n",
       "                                          ...                    \n",
       "           str28                str12     ...        int64       \n",
       "---------------------------- ------------ ... -------------------\n",
       "Gaia DR3 5142488558250979328 01:46:31.941 ... 5142488558250979328\n",
       "Gaia DR3 5084896688945791232 03:33:14.647 ... 5084896688945791232\n",
       "Gaia DR3 4883474679951350656 04:01:05.312 ... 4883474679951350656\n",
       "Gaia DR3 4891229020066458496 04:29:08.372 ... 4891229020066458496\n",
       "Gaia DR3 3171401381762257280 04:31:51.983 ... 3171401381762257280\n",
       "Gaia DR3 6855176517802163456 20:43:46.809 ... 6855176517802163456\n",
       "Gaia DR3 6805917533587127936 20:51:29.867 ... 6805917533587127936\n",
       "Gaia DR3 6624328240456787840 22:38:54.217 ... 6624328240456787840\n",
       "Gaia DR3 6549420162524602112 23:10:13.596 ... 6549420162524602112\n",
       "Gaia DR3 6551622763487459584 23:21:42.758 ... 6551622763487459584\n",
       "Gaia DR3 2394414237109269248 23:48:09.820 ... 2394414237109269248"
      ]
     },
     "execution_count": 4,
     "metadata": {},
     "output_type": "execute_result"
    }
   ],
   "source": [
    "tb"
   ]
  },
  {
   "cell_type": "code",
   "execution_count": 5,
   "id": "19c02407",
   "metadata": {},
   "outputs": [],
   "source": [
    "tb.add_index('name')"
   ]
  },
  {
   "cell_type": "code",
   "execution_count": 6,
   "id": "50ef9f04",
   "metadata": {},
   "outputs": [],
   "source": [
    "from gravity_obs import ob_add_target\n",
    "def single_off_target(grav, target, folder_name=None,\n",
    "                         usename=False, verify=False):\n",
    "    ao_mode = \"LGS_VIS\"\n",
    "    tel_alpha = target['ra_2000_hms']\n",
    "    tel_delta = target['dec_2000_dms']\n",
    "\n",
    "    if usename:\n",
    "            obname = f\"{ao_mode}_{target['name']}\".replace(' ', '_')\n",
    "    else:\n",
    "            obname = f\"{ao_mode}_{tel_alpha.split('.')[0].replace(':', '')}{tel_delta.split('.')[0].replace(':', '')}_{target['Grp']:4.1f}_{target['K']:4.1f}\".replace(' ', '_')\n",
    "\n",
    "\n",
    "    ob, obV = grav.create_OB(obname, folder_name=folder_name, overwrite=True)\n",
    "    obsDes = ob['obsDescription']\n",
    "    obsDes['name'] = target['name']\n",
    "    obsDes['userComments'] = 'Single on-axis observation test'\n",
    "\n",
    "    ob_add_target(ob, target['name'], \n",
    "                    ra = target['ra_2000_hms'], \n",
    "                    dec = target['dec_2000_dms'],\n",
    "                    pma = target['pmra']/1e3,\n",
    "                    pmd = target['pmdec']/1e3)\n",
    "    ob, obV = grav.save_OB(obname, folder_name=folder_name)\n",
    "\n",
    "\n",
    "    dit, ndit = 3, 40\n",
    "    grav.add_GRAVITY_single_offaxis_acq(name=obname, folder_name=folder_name,\n",
    "                                        sc_name=target['name'],\n",
    "                                        sc_kmag=target['K'],\n",
    "                                        sc_hmag=target['H'],\n",
    "                                        ngs_mag=target['Grp'],\n",
    "                                        ao_mode=ao_mode,\n",
    "                                        baseline=['UTs'])\n",
    "    grav.add_GRAVITY_single_obs_exp(obname, folder_name=folder_name,\n",
    "                                    dit=dit, ndit_obj=ndit, ndit_sky=ndit,)\n",
    "\n",
    "    # optional verification\n",
    "    if verify:\n",
    "        obID = ob['obId']\n",
    "        response, _ = grav.api.verifyOB(obID,True)\n",
    "        if response['observable']:\n",
    "            print('*** Congratulations. Your OB' , obID, ob['name'], 'is observable!')\n",
    "        else:\n",
    "            print('OB', obID, 'is >>not observable<<. See messages below.')\n",
    "            print(' ', '\\n  '.join(response['messages']))"
   ]
  },
  {
   "cell_type": "code",
   "execution_count": 7,
   "id": "aaa73485",
   "metadata": {},
   "outputs": [],
   "source": [
    "grav = p2t.p2api_GRAVITY('116.29H7.001', 'GPLUSTeam', 'GPAOwFRINGES', no_warning=True)\n",
    "root_folder = 'TTR-116.0046 October First Light'\n",
    "grav.set_rootFolder(root_folder)"
   ]
  },
  {
   "cell_type": "code",
   "execution_count": 8,
   "id": "25f031f9",
   "metadata": {},
   "outputs": [],
   "source": [
    "target_names = [\"Gaia DR3 5142488558250979328\", \"Gaia DR3 6624328240456787840\"]\n",
    "folder_name = 'offaxis_ob_test'\n",
    "grav.create_folder(folder_name, overwrite=True)\n",
    "\n",
    "for obj_name in target_names:\n",
    "    target = tb.loc[obj_name]\n",
    "    single_off_target(grav, target, folder_name=folder_name)"
   ]
  },
  {
   "cell_type": "code",
   "execution_count": null,
   "id": "594a2ec8",
   "metadata": {},
   "outputs": [],
   "source": []
  }
 ],
 "metadata": {
  "kernelspec": {
   "display_name": "gvobs",
   "language": "python",
   "name": "python3"
  },
  "language_info": {
   "codemirror_mode": {
    "name": "ipython",
    "version": 3
   },
   "file_extension": ".py",
   "mimetype": "text/x-python",
   "name": "python",
   "nbconvert_exporter": "python",
   "pygments_lexer": "ipython3",
   "version": "3.11.13"
  }
 },
 "nbformat": 4,
 "nbformat_minor": 5
}
