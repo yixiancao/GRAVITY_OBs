{
 "cells": [
  {
   "cell_type": "code",
   "execution_count": 1,
   "id": "f7cf7f22",
   "metadata": {},
   "outputs": [],
   "source": [
    "%load_ext autoreload\n",
    "%autoreload 2\n",
    "%matplotlib inline"
   ]
  },
  {
   "cell_type": "code",
   "execution_count": 2,
   "id": "3d3ef4c2",
   "metadata": {},
   "outputs": [],
   "source": [
    "from astropy.table import Table\n",
    "import gravity_obs.p2_tools as p2t"
   ]
  },
  {
   "cell_type": "code",
   "execution_count": 6,
   "id": "31296f1f",
   "metadata": {},
   "outputs": [],
   "source": [
    "table_path = '../../gvprep/tabs/star_k9-12mag_grp10-12mag_gaia_pairs_on.ipac'\n",
    "tb = Table.read(table_path, format='ascii.ipac')"
   ]
  },
  {
   "cell_type": "code",
   "execution_count": 7,
   "id": "331ddb1a",
   "metadata": {},
   "outputs": [
    {
     "data": {
      "text/html": [
       "<div><i>Table length=74</i>\n",
       "<table id=\"table4674712784\" class=\"table-striped table-bordered table-condensed\">\n",
       "<thead><tr><th>name</th><th>ra_2000_hms</th><th>dec_2000_dms</th><th>ra_2000</th><th>dec_2000</th><th>parallax</th><th>pm</th><th>pmra</th><th>pmdec</th><th>radial_velocity</th><th>Grp</th><th>G</th><th>ra_2016</th><th>dec_2016</th><th>source_id</th><th>name_ft</th><th>ra_2000_hms_ft</th><th>dec_2000_dms_ft</th><th>ra_2000_ft</th><th>dec_2000_ft</th><th>H_ft</th><th>K_ft</th><th>parallax_ft</th><th>pm_ft</th><th>pmra_ft</th><th>pmdec_ft</th><th>radial_velocity_ft</th><th>Grp_ft</th><th>G_ft</th><th>ra_2016_ft</th><th>dec_2016_ft</th><th>source_id_ft</th><th>sobj_x</th><th>sobj_y</th><th>sep</th><th>pa</th></tr></thead>\n",
       "<thead><tr><th></th><th></th><th></th><th></th><th></th><th>mas</th><th>mas / yr</th><th>mas / yr</th><th>mas / yr</th><th>km / s</th><th>mag</th><th>mag</th><th>deg</th><th>deg</th><th></th><th></th><th></th><th></th><th></th><th></th><th>mag</th><th>mag</th><th>mas</th><th>mas / yr</th><th>mas / yr</th><th>mas / yr</th><th>km / s</th><th>mag</th><th>mag</th><th>deg</th><th>deg</th><th></th><th>mas</th><th>mas</th><th>arcsec</th><th>deg</th></tr></thead>\n",
       "<thead><tr><th>str28</th><th>str12</th><th>str13</th><th>float64</th><th>float64</th><th>float64</th><th>float64</th><th>float64</th><th>float64</th><th>float64</th><th>float64</th><th>float64</th><th>float64</th><th>float64</th><th>int64</th><th>str28</th><th>str12</th><th>str13</th><th>float64</th><th>float64</th><th>float64</th><th>float64</th><th>float64</th><th>float64</th><th>float64</th><th>float64</th><th>float64</th><th>float64</th><th>float64</th><th>float64</th><th>float64</th><th>int64</th><th>float64</th><th>float64</th><th>float64</th><th>float64</th></tr></thead>\n",
       "<tr><td>Gaia DR3 2314519534641619072</td><td>00:00:48.419</td><td>-31:24:08.551</td><td>0.2017465628668493</td><td>-31.402375276095544</td><td>1.9224</td><td>76.271</td><td>40.103</td><td>-64.878</td><td>--</td><td>11.25193</td><td>12.474266</td><td>0.20195538217</td><td>-31.40266362203</td><td>2314519534641619072</td><td>Gaia DR3 2314519534642211968</td><td>00:00:48.458</td><td>-31:24:08.366</td><td>0.20191001276</td><td>-31.402323892</td><td>10.355999947</td><td>10.262000084</td><td>1.8048</td><td>74.96</td><td>38.581</td><td>-64.269</td><td>--</td><td>11.243553</td><td>12.437418</td><td>0.20211090932</td><td>-31.402609531</td><td>2314519534642211968</td><td>-462.95471795708687</td><td>-200.70267317723417</td><td>0.5045875879361418</td><td>246.56203839541735</td></tr>\n",
       "<tr><td>Gaia DR3 2365173519937952768</td><td>00:19:05.830</td><td>-19:33:02.667</td><td>4.774291555243661</td><td>-19.550740854562502</td><td>7.3023</td><td>47.847</td><td>-8.481</td><td>-47.089</td><td>--</td><td>10.239418</td><td>11.448545</td><td>4.77425155779</td><td>-19.55095013961</td><td>2365173519937952768</td><td>Gaia DR3 2365173519937707392</td><td>00:19:05.828</td><td>-19:33:03.195</td><td>4.7742837938</td><td>-19.55088739</td><td>9.1660003662</td><td>9.0640001297</td><td>6.5395</td><td>49.094</td><td>-15.887</td><td>-46.452</td><td>--</td><td>10.238993</td><td>11.66296</td><td>4.7742088645</td><td>-19.551093845</td><td>2365173519937707392</td><td>217.491843123125</td><td>511.08998598663896</td><td>0.5554418741874949</td><td>23.05194091486316</td></tr>\n",
       "<tr><td>Gaia DR3 4998055954911196288</td><td>00:21:39.581</td><td>-38:45:46.511</td><td>5.41491879640779</td><td>-38.76291972863743</td><td>4.9668</td><td>18.786</td><td>-7.013</td><td>-17.428</td><td>11.36</td><td>10.953303</td><td>12.122323</td><td>5.41487882581</td><td>-38.76299718829</td><td>4998055954911196288</td><td>Gaia DR3 4998055954912245760</td><td>00:21:39.543</td><td>-38:45:46.605</td><td>5.4147635206</td><td>-38.76294592</td><td>9.9139995575</td><td>9.8269996643</td><td>3.3745</td><td>13.872</td><td>-8.13</td><td>-11.24</td><td>--</td><td>10.947227</td><td>12.356506</td><td>5.4147171814</td><td>-38.762995875</td><td>4998055954912245760</td><td>464.7058196694789</td><td>-65.43626197121604</td><td>0.4692903186892395</td><td>98.01524795234509</td></tr>\n",
       "<tr><td>Gaia DR3 5004971745611061120</td><td>00:26:50.606</td><td>-35:30:11.178</td><td>6.710858731441873</td><td>-35.50310492673278</td><td>4.6755</td><td>29.369</td><td>18.597</td><td>22.73</td><td>--</td><td>10.648828</td><td>12.040381</td><td>6.71096026331</td><td>-35.5030039052</td><td>5004971745611061120</td><td>Gaia DR3 5004971741316137984</td><td>00:26:50.584</td><td>-35:30:10.747</td><td>6.7107662388</td><td>-35.502985171</td><td>9.6160001755</td><td>9.501999855</td><td>4.6923</td><td>27.399</td><td>13.186</td><td>24.017</td><td>--</td><td>10.641261</td><td>11.84198</td><td>6.7108382241</td><td>-35.502878428</td><td>5004971741316137984</td><td>410.746802994976</td><td>-464.3444458224562</td><td>0.6199424977663314</td><td>138.50487717159072</td></tr>\n",
       "<tr><td>Gaia DR3 2363592078619156480</td><td>00:27:48.476</td><td>-19:28:55.327</td><td>6.951982344057993</td><td>-19.482035378287936</td><td>3.2245</td><td>22.732</td><td>-9.4</td><td>-20.697</td><td>--</td><td>10.217233</td><td>11.499516</td><td>6.95193803122</td><td>-19.48212736709</td><td>2363592078619156480</td><td>Gaia DR3 2363592074324188416</td><td>00:27:48.487</td><td>-19:28:55.818</td><td>6.9520273757</td><td>-19.482171594</td><td>9.6420001984</td><td>9.6129999161</td><td>2.6422</td><td>23.204</td><td>-9.939</td><td>-20.968</td><td>--</td><td>10.214808</td><td>11.143388</td><td>6.9519805182</td><td>-19.482264784</td><td>2363592074324188416</td><td>-138.90782872737245</td><td>497.35953549904536</td><td>0.5163931568423222</td><td>344.39545269218786</td></tr>\n",
       "<tr><td>Gaia DR3 2346579816238844800</td><td>00:38:01.288</td><td>-25:47:33.425</td><td>9.505365061588092</td><td>-25.792618131015033</td><td>9.145</td><td>108.553</td><td>16.04</td><td>-107.362</td><td>24.9</td><td>10.73508</td><td>12.183564</td><td>9.50544424001</td><td>-25.79309529636</td><td>2346579816238844800</td><td>Gaia DR3 2346579816240252160</td><td>00:38:01.301</td><td>-25:47:33.914</td><td>9.5054188996</td><td>-25.792753835</td><td>9.1890001297</td><td>9.0480003357</td><td>8.9883</td><td>102.035</td><td>16.694</td><td>-100.66</td><td>--</td><td>10.735076</td><td>12.302464</td><td>9.5055013044</td><td>-25.793201213</td><td>2346579816240252160</td><td>-191.38104981645046</td><td>315.5515171485597</td><td>0.3690521185464249</td><td>328.7633139318653</td></tr>\n",
       "<tr><td>Gaia DR3 2341873150558360448</td><td>00:44:53.233</td><td>-29:53:55.989</td><td>11.221806217785431</td><td>-29.89888569650614</td><td>4.6826</td><td>10.339</td><td>-1.206</td><td>10.268</td><td>-8.52</td><td>10.321059</td><td>11.573556</td><td>11.22180003449</td><td>-29.89884005906</td><td>2341873150558360448</td><td>Gaia DR3 2341873150557503488</td><td>00:44:53.216</td><td>-29:53:55.547</td><td>11.221733346</td><td>-29.898763104</td><td>9.373000145</td><td>9.343000412</td><td>5.1521</td><td>6.674</td><td>-3.192</td><td>5.862</td><td>--</td><td>10.32097</td><td>11.495355</td><td>11.221716982</td><td>-29.898737052</td><td>2341873150557503488</td><td>278.6795008081482</td><td>-327.5999113558436</td><td>0.4300976239076837</td><td>139.6131759368672</td></tr>\n",
       "<tr><td>Gaia DR3 5002385178867298944</td><td>00:51:41.245</td><td>-36:47:46.513</td><td>12.921855746184914</td><td>-36.796253570541985</td><td>2.1886</td><td>13.769</td><td>11.06</td><td>-8.201</td><td>--</td><td>10.92402</td><td>12.093588</td><td>12.92191713226</td><td>-36.79629001776</td><td>5002385178867298944</td><td>Gaia DR3 5002385178867002624</td><td>00:51:41.282</td><td>-36:47:46.395</td><td>12.922009883</td><td>-36.796220864</td><td>10.256999969</td><td>10.230999947</td><td>1.4219</td><td>10.925</td><td>10.513</td><td>-2.97</td><td>47.88</td><td>10.920696</td><td>11.975905</td><td>12.922068235</td><td>-36.796234063</td><td>5002385178867002624</td><td>-430.22813435436717</td><td>-252.75682133146324</td><td>0.49898122040776716</td><td>239.5659828076174</td></tr>\n",
       "<tr><td>Gaia DR3 5003111440656257408</td><td>00:58:48.130</td><td>-34:18:26.189</td><td>14.700543303437618</td><td>-34.307274679717196</td><td>9.4909</td><td>21.871</td><td>19.45</td><td>-10.002</td><td>5.16</td><td>10.989154</td><td>12.450525</td><td>14.70064795648</td><td>-34.30731913212</td><td>5003111440656257408</td><td>Gaia DR3 5003111440658378752</td><td>00:58:48.160</td><td>-34:18:26.687</td><td>14.700667205</td><td>-34.307413069</td><td>9.3030004501</td><td>9.1180000305</td><td>10.2029</td><td>18.778</td><td>18.354</td><td>-3.97</td><td>10.62</td><td>10.983194</td><td>12.718974</td><td>14.700765959</td><td>-34.307430714</td><td>5003111440658378752</td><td>-340.1510195763833</td><td>342.51695387131076</td><td>0.4827220523325351</td><td>315.1985701867421</td></tr>\n",
       "<tr><td>...</td><td>...</td><td>...</td><td>...</td><td>...</td><td>...</td><td>...</td><td>...</td><td>...</td><td>...</td><td>...</td><td>...</td><td>...</td><td>...</td><td>...</td><td>...</td><td>...</td><td>...</td><td>...</td><td>...</td><td>...</td><td>...</td><td>...</td><td>...</td><td>...</td><td>...</td><td>...</td><td>...</td><td>...</td><td>...</td><td>...</td><td>...</td><td>...</td><td>...</td><td>...</td><td>...</td></tr>\n",
       "<tr><td>Gaia DR3 6588415480569151616</td><td>21:57:51.937</td><td>-34:27:58.446</td><td>329.4664051943403</td><td>-34.46623496380075</td><td>5.3297</td><td>7.399</td><td>-5.937</td><td>-4.415</td><td>--</td><td>10.654849</td><td>12.045555</td><td>329.46637318716</td><td>-34.46625458664</td><td>6588415480569151616</td><td>Gaia DR3 6588415480569437184</td><td>21:57:51.920</td><td>-34:27:58.826</td><td>329.4663341</td><td>-34.466340462</td><td>9.329000473</td><td>9.25</td><td>7.1036</td><td>6.954</td><td>-2.621</td><td>-6.441</td><td>--</td><td>10.654466</td><td>12.053349</td><td>329.46631997</td><td>-34.46636909</td><td>6588415480569437184</td><td>125.41945426839706</td><td>432.0883821846331</td><td>0.4499226706089794</td><td>16.186080379325684</td></tr>\n",
       "<tr><td>Gaia DR3 6619188440209039744</td><td>22:00:52.984</td><td>-28:17:21.888</td><td>330.2207667276032</td><td>-28.289413364019662</td><td>1.9716</td><td>10.488</td><td>-7.814</td><td>-6.996</td><td>--</td><td>10.716593</td><td>11.980166</td><td>330.22072729053</td><td>-28.28944445689</td><td>6619188440209039744</td><td>Gaia DR3 6619188435913541632</td><td>22:00:52.982</td><td>-28:17:21.403</td><td>330.22075665</td><td>-28.28927855</td><td>9.8129997253</td><td>9.7760000229</td><td>0.9275</td><td>10.049</td><td>-7.719</td><td>-6.434</td><td>--</td><td>10.715984</td><td>11.895883</td><td>330.22071769</td><td>-28.289307146</td><td>6619188435913541632</td><td>29.501882613293162</td><td>-499.8327711043626</td><td>0.5007026664075145</td><td>176.62212116017236</td></tr>\n",
       "<tr><td>Gaia DR3 6822142927893439232</td><td>22:10:21.913</td><td>-19:32:26.341</td><td>332.5913057691401</td><td>-19.540650335831767</td><td>1.1398</td><td>12.069</td><td>11.914</td><td>-1.925</td><td>--</td><td>11.524621</td><td>12.740614</td><td>332.59136195835</td><td>-19.54065889038</td><td>6822142927893439232</td><td>Gaia DR3 6822142927892978944</td><td>22:10:21.883</td><td>-19:32:26.565</td><td>332.59117804</td><td>-19.540712413</td><td>10.758000374</td><td>10.729000092</td><td>2.6419</td><td>10.476</td><td>10.419</td><td>-1.097</td><td>--</td><td>11.511143</td><td>12.624514</td><td>332.59122717</td><td>-19.540717288</td><td>6822142927892978944</td><td>471.95729028676</td><td>202.10805314191091</td><td>0.513411481172397</td><td>66.8177555128509</td></tr>\n",
       "<tr><td>Gaia DR3 6614814681737734400</td><td>22:17:12.095</td><td>-30:19:08.754</td><td>334.30039542895906</td><td>-30.319098237127918</td><td>1.6316</td><td>58.337</td><td>57.897</td><td>-7.152</td><td>--</td><td>11.288594</td><td>12.348367</td><td>334.30069351982</td><td>-30.31913002496</td><td>6614814681737734400</td><td>Gaia DR3 6614814686032446336</td><td>22:17:12.058</td><td>-30:19:08.896</td><td>334.30024331</td><td>-30.319137678</td><td>10.479000092</td><td>10.421999931</td><td>1.6884</td><td>62.042</td><td>61.352</td><td>-9.232</td><td>--</td><td>11.285751</td><td>12.552036</td><td>334.30055919</td><td>-30.319178708</td><td>6614814686032446336</td><td>383.5495883867037</td><td>195.66476036801433</td><td>0.43057517950002916</td><td>62.97196140817419</td></tr>\n",
       "<tr><td>Gaia DR3 6822898086223341568</td><td>22:17:50.409</td><td>-17:32:20.611</td><td>334.4600372514914</td><td>-17.539058693503687</td><td>4.0932</td><td>23.249</td><td>23.044</td><td>-3.081</td><td>--</td><td>11.149587</td><td>12.395793</td><td>334.46014466192</td><td>-17.53907238541</td><td>6822898086223341568</td><td>Gaia DR3 6822898086222981504</td><td>22:17:50.444</td><td>-17:32:20.789</td><td>334.46018303</td><td>-17.539107957</td><td>10.12899971</td><td>10.036000252</td><td>4.1083</td><td>23.78</td><td>23.458</td><td>3.9</td><td>--</td><td>11.148091</td><td>12.450438</td><td>334.46029237</td><td>-17.539090625</td><td>6822898086222981504</td><td>-511.0905287189542</td><td>-2.8255872859644264</td><td>0.5110983393533292</td><td>269.6832408983489</td></tr>\n",
       "<tr><td>Gaia DR3 6623208907554782208</td><td>22:44:58.281</td><td>-25:06:05.561</td><td>341.24283727340537</td><td>-25.101544755807563</td><td>1.646</td><td>12.966</td><td>3.9</td><td>-12.366</td><td>--</td><td>11.913034</td><td>13.138124</td><td>341.24285641379</td><td>-25.10159971523</td><td>6623208907554782208</td><td>Gaia DR3 6623208907555211520</td><td>22:44:58.296</td><td>-25:06:05.972</td><td>341.24289996</td><td>-25.101659023</td><td>11.147000313</td><td>11.079999924</td><td>1.1138</td><td>12.326</td><td>4.31</td><td>-11.548</td><td>--</td><td>11.904224</td><td>13.041546</td><td>341.24292112</td><td>-25.101710349</td><td>6623208907555211520</td><td>-214.9649025092797</td><td>390.2564353093072</td><td>0.4455446045135679</td><td>331.1527137196874</td></tr>\n",
       "<tr><td>Gaia DR3 2407002756189051008</td><td>23:11:44.959</td><td>-15:36:55.475</td><td>347.9373279281479</td><td>-15.615409810260058</td><td>1.883</td><td>29.052</td><td>24.919</td><td>-14.935</td><td>--</td><td>10.815908</td><td>12.098534</td><td>347.93744292557</td><td>-15.61547618736</td><td>2407002756189051008</td><td>Gaia DR3 2407002756188574080</td><td>23:11:44.933</td><td>-15:36:55.634</td><td>347.93722003</td><td>-15.615453952</td><td>9.7939996719</td><td>9.7089996338</td><td>0.2082</td><td>29.214</td><td>24.429</td><td>-16.021</td><td>-46.57</td><td>10.81504</td><td>12.024758</td><td>347.93733276</td><td>-15.615525155</td><td>2407002756188574080</td><td>386.7646912953533</td><td>186.93774843229772</td><td>0.429572634395776</td><td>64.20379565954426</td></tr>\n",
       "<tr><td>Gaia DR3 6552209799616969600</td><td>23:27:40.376</td><td>-35:17:05.567</td><td>351.91823498352863</td><td>-35.28487959646173</td><td>4.3112</td><td>40.022</td><td>30.211</td><td>-26.25</td><td>--</td><td>10.286285</td><td>11.535671</td><td>351.91839947032</td><td>-35.28499626226</td><td>6552209799616969600</td><td>Gaia DR3 6552209795321963904</td><td>23:27:40.383</td><td>-35:17:06.053</td><td>351.91826063</td><td>-35.285014652</td><td>9.5430002213</td><td>9.4910001755</td><td>3.4162</td><td>41.8</td><td>32.877</td><td>-25.813</td><td>--</td><td>10.284188</td><td>11.376487</td><td>351.91843964</td><td>-35.285129375</td><td>6552209795321963904</td><td>-144.19975070810366</td><td>474.9185613803971</td><td>0.4963277224253198</td><td>343.11011102382685</td></tr>\n",
       "<tr><td>Gaia DR3 2334378466985824384</td><td>23:51:37.188</td><td>-27:10:58.148</td><td>357.90494875868785</td><td>-27.18281875563551</td><td>2.0803</td><td>34.815</td><td>31.127</td><td>15.595</td><td>--</td><td>10.893661</td><td>12.076943</td><td>357.90510427533</td><td>-27.18274944462</td><td>2334378466985824384</td><td>Gaia DR3 2334378466986459776</td><td>23:51:37.147</td><td>-27:10:58.156</td><td>357.9047777</td><td>-27.182821184</td><td>10.005999565</td><td>9.9219999313</td><td>0.67</td><td>40.771</td><td>35.083</td><td>20.771</td><td>--</td><td>10.890994</td><td>12.133166</td><td>357.90495298</td><td>-27.182728868</td><td>2334378466986459776</td><td>445.6967883763766</td><td>-124.85585866964654</td><td>0.46285485048031144</td><td>105.64948899554793</td></tr>\n",
       "</table></div>"
      ],
      "text/plain": [
       "<Table length=74>\n",
       "            name             ra_2000_hms  ...         pa        \n",
       "                                          ...        deg        \n",
       "           str28                str12     ...      float64      \n",
       "---------------------------- ------------ ... ------------------\n",
       "Gaia DR3 2314519534641619072 00:00:48.419 ... 246.56203839541735\n",
       "Gaia DR3 2365173519937952768 00:19:05.830 ...  23.05194091486316\n",
       "Gaia DR3 4998055954911196288 00:21:39.581 ...  98.01524795234509\n",
       "Gaia DR3 5004971745611061120 00:26:50.606 ... 138.50487717159072\n",
       "Gaia DR3 2363592078619156480 00:27:48.476 ... 344.39545269218786\n",
       "Gaia DR3 2346579816238844800 00:38:01.288 ...  328.7633139318653\n",
       "Gaia DR3 2341873150558360448 00:44:53.233 ...  139.6131759368672\n",
       "Gaia DR3 5002385178867298944 00:51:41.245 ...  239.5659828076174\n",
       "Gaia DR3 5003111440656257408 00:58:48.130 ...  315.1985701867421\n",
       "                         ...          ... ...                ...\n",
       "Gaia DR3 6588415480569151616 21:57:51.937 ... 16.186080379325684\n",
       "Gaia DR3 6619188440209039744 22:00:52.984 ... 176.62212116017236\n",
       "Gaia DR3 6822142927893439232 22:10:21.913 ...   66.8177555128509\n",
       "Gaia DR3 6614814681737734400 22:17:12.095 ...  62.97196140817419\n",
       "Gaia DR3 6822898086223341568 22:17:50.409 ...  269.6832408983489\n",
       "Gaia DR3 6623208907554782208 22:44:58.281 ...  331.1527137196874\n",
       "Gaia DR3 2407002756189051008 23:11:44.959 ...  64.20379565954426\n",
       "Gaia DR3 6552209799616969600 23:27:40.376 ... 343.11011102382685\n",
       "Gaia DR3 2334378466985824384 23:51:37.188 ... 105.64948899554793"
      ]
     },
     "execution_count": 7,
     "metadata": {},
     "output_type": "execute_result"
    }
   ],
   "source": [
    "tb"
   ]
  },
  {
   "cell_type": "code",
   "execution_count": 9,
   "id": "19c02407",
   "metadata": {},
   "outputs": [],
   "source": [
    "tb.add_index('name')\n",
    "tb['K'] = tb['G']-2.5\n",
    "tb['H'] = tb['G']-2.2"
   ]
  },
  {
   "cell_type": "code",
   "execution_count": 10,
   "id": "50ef9f04",
   "metadata": {},
   "outputs": [],
   "source": [
    "from gravity_obs import ob_add_target\n",
    "def dual_on_for_target(grav, target, folder_name=None,\n",
    "                         usename=False, verify=False):\n",
    "    ao_mode = \"LGS_VIS\"\n",
    "    tel_alpha = target['ra_2000_hms']\n",
    "    tel_delta = target['dec_2000_dms']\n",
    "\n",
    "    if usename:\n",
    "            obname = f\"{ao_mode}_{target['name']}\".replace(' ', '_')\n",
    "    else:\n",
    "            obname = f\"{ao_mode}_{tel_alpha.split('.')[0].replace(':', '')}{tel_delta.split('.')[0].replace(':', '')}_{target['Grp']:4.1f}_{target['K']:4.1f}\".replace(' ', '_')\n",
    "\n",
    "\n",
    "    ob, obV = grav.create_OB(obname, folder_name=folder_name, overwrite=True)\n",
    "    obsDes = ob['obsDescription']\n",
    "    obsDes['name'] = target['name']\n",
    "    obsDes['userComments'] = 'Dual on-axis observation test'\n",
    "\n",
    "    ob_add_target(ob, target['name'], \n",
    "                    ra = target['ra_2000_hms'], \n",
    "                    dec = target['dec_2000_dms'],\n",
    "                    pma = target['pmra'],\n",
    "                    pmd = target['pmdec'])\n",
    "    ob, obV = grav.save_OB(obname, folder_name=folder_name)\n",
    "\n",
    "\n",
    "    dit, ndit = 3, 40\n",
    "    grav.add_GRAVITY_dual_onaxis_acq(name=obname, folder_name=folder_name,\n",
    "                                    sc_name=target['name'],\n",
    "                                    sc_kmag=target['K'],\n",
    "                                    sc_hmag=target['H'],\n",
    "                                    sobj_x = target['sobj_x'],\n",
    "                                    sobj_y = target['sobj_y'],\n",
    "                                    sc_plx=target['parallax']/1e3,\n",
    "                                    ft_kmag=target['K_ft'],\n",
    "                                    ft_hmag=target['H_ft'],\n",
    "                                    ft_plx=target['parallax_ft']/1e3,\n",
    "                                    ao_mode=ao_mode,\n",
    "                                    ngs_mag=target['Grp_ft'],\n",
    "                                    baseline=['UTs'])\n",
    "    grav.add_GRAVITY_dual_obs_exp(obname, folder_name=folder_name,\n",
    "                                    dit=dit, ndit_obj=ndit, ndit_sky=ndit,)\n",
    "\n",
    "    # optional verification\n",
    "    if verify:\n",
    "        obID = ob['obId']\n",
    "        response, _ = grav.api.verifyOB(obID,True)\n",
    "        if response['observable']:\n",
    "            print('*** Congratulations. Your OB' , obID, ob['name'], 'is observable!')\n",
    "        else:\n",
    "            print('OB', obID, 'is >>not observable<<. See messages below.')\n",
    "            print(' ', '\\n  '.join(response['messages']))"
   ]
  },
  {
   "cell_type": "code",
   "execution_count": 11,
   "id": "aaa73485",
   "metadata": {},
   "outputs": [],
   "source": [
    "grav = p2t.p2api_GRAVITY('116.29H7.001', 'GPLUSTeam', 'GPAOwFRINGES', no_warning=True)\n",
    "root_folder = 'TTR-116.0046 October First Light'\n",
    "grav.set_rootFolder(root_folder)"
   ]
  },
  {
   "cell_type": "code",
   "execution_count": 12,
   "id": "1b7d92db",
   "metadata": {},
   "outputs": [],
   "source": [
    "folder_name = 'dual_onaxis'\n",
    "try:\n",
    "    grav.get_folder(folder_name)\n",
    "except Exception:\n",
    "    grav.create_folder(folder_name, overwrite=True)"
   ]
  },
  {
   "cell_type": "code",
   "execution_count": 13,
   "id": "25f031f9",
   "metadata": {},
   "outputs": [],
   "source": [
    "target_names = [\"Gaia DR3 6619188440209039744\", \"Gaia DR3 5003111440656257408\"]\n",
    "\n",
    "for obj_name in target_names:\n",
    "    target = tb.loc[obj_name]\n",
    "    dual_on_for_target(grav, target, folder_name=folder_name)"
   ]
  },
  {
   "cell_type": "code",
   "execution_count": null,
   "id": "594a2ec8",
   "metadata": {},
   "outputs": [],
   "source": []
  }
 ],
 "metadata": {
  "kernelspec": {
   "display_name": "gvobs",
   "language": "python",
   "name": "python3"
  },
  "language_info": {
   "codemirror_mode": {
    "name": "ipython",
    "version": 3
   },
   "file_extension": ".py",
   "mimetype": "text/x-python",
   "name": "python",
   "nbconvert_exporter": "python",
   "pygments_lexer": "ipython3",
   "version": "3.11.13"
  }
 },
 "nbformat": 4,
 "nbformat_minor": 5
}
