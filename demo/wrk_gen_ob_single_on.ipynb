{
 "cells": [
  {
   "cell_type": "code",
   "execution_count": 1,
   "id": "f7cf7f22",
   "metadata": {},
   "outputs": [],
   "source": [
    "%load_ext autoreload\n",
    "%autoreload 2\n",
    "%matplotlib inline"
   ]
  },
  {
   "cell_type": "code",
   "execution_count": 3,
   "id": "3d3ef4c2",
   "metadata": {},
   "outputs": [],
   "source": [
    "from astropy.table import Table\n",
    "import gravity_obs.p2_tools as p2t"
   ]
  },
  {
   "cell_type": "code",
   "execution_count": 3,
   "id": "31296f1f",
   "metadata": {},
   "outputs": [],
   "source": [
    "table_path = '../../gvprep/tabs/star_k9mag_grp10-12mag_south_gaia.ipac'\n",
    "tb = Table.read(table_path, format='ascii.ipac')"
   ]
  },
  {
   "cell_type": "code",
   "execution_count": 4,
   "id": "331ddb1a",
   "metadata": {},
   "outputs": [
    {
     "data": {
      "text/html": [
       "<div><i>Table length=17757</i>\n",
       "<table id=\"table4688114896\" class=\"table-striped table-bordered table-condensed\">\n",
       "<thead><tr><th>name</th><th>ra_2000_hms</th><th>dec_2000_dms</th><th>ra_2000</th><th>dec_2000</th><th>H</th><th>K</th><th>parallax</th><th>pm</th><th>pmra</th><th>pmdec</th><th>radial_velocity</th><th>Grp</th><th>G</th><th>ra_2016</th><th>dec_2016</th><th>source_id</th></tr></thead>\n",
       "<thead><tr><th></th><th></th><th></th><th></th><th></th><th>mag</th><th>mag</th><th>mas</th><th>mas / yr</th><th>mas / yr</th><th>mas / yr</th><th>km / s</th><th>mag</th><th>mag</th><th>deg</th><th>deg</th><th></th></tr></thead>\n",
       "<thead><tr><th>str28</th><th>str12</th><th>str13</th><th>float64</th><th>float64</th><th>float64</th><th>float64</th><th>float64</th><th>float64</th><th>float64</th><th>float64</th><th>float64</th><th>float64</th><th>float64</th><th>float64</th><th>float64</th><th>int64</th></tr></thead>\n",
       "<tr><td>Gaia DR3 2312711078532837632</td><td>00:00:00.263</td><td>-34:41:52.377</td><td>0.001095554660312786</td><td>-34.6978823634163</td><td>9.232000351</td><td>9.1120004654</td><td>2.1987</td><td>23.731</td><td>18.349</td><td>-15.049</td><td>23.63</td><td>10.490212</td><td>11.143433</td><td>0.00119474281</td><td>-34.69794924793</td><td>2312711078532837632</td></tr>\n",
       "<tr><td>Gaia DR3 2312704477167095040</td><td>00:00:01.944</td><td>-34:52:36.848</td><td>0.008098460835500598</td><td>-34.87690218354403</td><td>9.9670000076</td><td>9.8240003586</td><td>0.2713</td><td>12.961</td><td>0.021</td><td>-12.961</td><td>-24.27</td><td>11.498783</td><td>12.227124</td><td>0.00809857507</td><td>-34.8769597872</td><td>2312704477167095040</td></tr>\n",
       "<tr><td>Gaia DR3 2313154662754924288</td><td>00:00:03.559</td><td>-32:59:58.399</td><td>0.014830507474218066</td><td>-32.999555159954866</td><td>9.5850000381</td><td>9.4890003204</td><td>0.3307</td><td>12.684</td><td>3.729</td><td>-12.123</td><td>-6.35</td><td>11.241921</td><td>11.992699</td><td>0.01485026969</td><td>-32.99960904071</td><td>2313154662754924288</td></tr>\n",
       "<tr><td>Gaia DR3 2333399798559115904</td><td>00:00:05.231</td><td>-27:42:37.587</td><td>0.02179436484568733</td><td>-27.710440759851195</td><td>10.06799984</td><td>9.9809999466</td><td>0.4974</td><td>7.992</td><td>-2.346</td><td>-7.64</td><td>-8.89</td><td>11.334542</td><td>11.964486</td><td>0.02178258956</td><td>-27.71047471333</td><td>2333399798559115904</td></tr>\n",
       "<tr><td>Gaia DR3 2334693820665572096</td><td>00:00:07.590</td><td>-25:59:42.244</td><td>0.03162554655028096</td><td>-25.995067807559526</td><td>9.4910001755</td><td>9.3940000534</td><td>0.6604</td><td>10.278</td><td>10.076</td><td>2.029</td><td>1.52</td><td>10.769584</td><td>11.4098</td><td>0.03167536748</td><td>-25.9950587919</td><td>2334693820665572096</td></tr>\n",
       "<tr><td>Gaia DR3 2307546225740273024</td><td>00:00:07.600</td><td>-38:19:10.119</td><td>0.03166747236191719</td><td>-38.319477606077214</td><td>9.6510000229</td><td>9.5539999008</td><td>4.0991</td><td>35.651</td><td>29.839</td><td>19.508</td><td>8.77</td><td>10.300985</td><td>10.707719</td><td>0.03183650813</td><td>-38.31939090275</td><td>2307546225740273024</td></tr>\n",
       "<tr><td>Gaia DR3 2332868008592476800</td><td>00:00:11.329</td><td>-29:50:42.518</td><td>0.04720593358205661</td><td>-29.84514389935682</td><td>9.8500003815</td><td>9.7349996567</td><td>4.6467</td><td>76.815</td><td>9.644</td><td>-76.207</td><td>-8.55</td><td>10.92845</td><td>11.494892</td><td>0.04725534852</td><td>-29.84548259646</td><td>2332868008592476800</td></tr>\n",
       "<tr><td>Gaia DR3 2314829528201886592</td><td>00:00:12.037</td><td>-30:20:50.362</td><td>0.05015601411339164</td><td>-30.347322807001515</td><td>9.6470003128</td><td>9.5629997253</td><td>3.601</td><td>31.848</td><td>-4.128</td><td>-31.579</td><td>-6.26</td><td>10.375031</td><td>10.823464</td><td>0.0501347539</td><td>-30.34746315853</td><td>2314829528201886592</td></tr>\n",
       "<tr><td>Gaia DR3 2306385107101883392</td><td>00:00:13.475</td><td>-39:05:29.922</td><td>0.05614545786012623</td><td>-39.091644905929144</td><td>9.6520004272</td><td>9.595000267</td><td>3.2006</td><td>16.806</td><td>15.879</td><td>-5.504</td><td>17.42</td><td>10.416274</td><td>10.86373</td><td>0.05623638664</td><td>-39.09166936981</td><td>2306385107101883392</td></tr>\n",
       "<tr><td>...</td><td>...</td><td>...</td><td>...</td><td>...</td><td>...</td><td>...</td><td>...</td><td>...</td><td>...</td><td>...</td><td>...</td><td>...</td><td>...</td><td>...</td><td>...</td><td>...</td></tr>\n",
       "<tr><td>Gaia DR3 2314292691649595136</td><td>23:59:46.990</td><td>-32:36:02.445</td><td>359.9457901151846</td><td>-32.600679190225335</td><td>9.1190004349</td><td>9.0290002823</td><td>0.8124</td><td>13.234</td><td>11.105</td><td>-7.198</td><td>33.82</td><td>10.428934</td><td>11.083264</td><td>359.94584869926</td><td>-32.60071118304</td><td>2314292691649595136</td></tr>\n",
       "<tr><td>Gaia DR3 2334558821253472256</td><td>23:59:47.020</td><td>-27:06:05.720</td><td>359.9459165919976</td><td>-27.101588914385378</td><td>9.7259998322</td><td>9.6739997864</td><td>2.4275</td><td>6.007</td><td>1.625</td><td>5.782</td><td>15.73</td><td>10.306037</td><td>10.690691</td><td>359.94592470646</td><td>-27.10156321453</td><td>2334558821253472256</td></tr>\n",
       "<tr><td>Gaia DR3 2334678977258897536</td><td>23:59:47.816</td><td>-26:19:21.536</td><td>359.94923314622247</td><td>-26.322649015650875</td><td>9.5570001602</td><td>9.4530000687</td><td>3.0196</td><td>8.778</td><td>4.946</td><td>7.252</td><td>-8.31</td><td>10.16903</td><td>10.595694</td><td>359.94925767287</td><td>-26.32261678448</td><td>2334678977258897536</td></tr>\n",
       "<tr><td>Gaia DR3 2332975421430126848</td><td>23:59:48.041</td><td>-29:08:18.676</td><td>359.950170245675</td><td>-29.138521239330395</td><td>9.1979999542</td><td>9.0620002747</td><td>1.9569</td><td>39.101</td><td>34.756</td><td>-17.915</td><td>10.94</td><td>10.406932</td><td>11.032825</td><td>359.95034709825</td><td>-29.1386008616</td><td>2332975421430126848</td></tr>\n",
       "<tr><td>Gaia DR3 2308080072995556992</td><td>23:59:49.577</td><td>-36:03:53.359</td><td>359.95657134242043</td><td>-36.06482195263859</td><td>9.25</td><td>9.1730003357</td><td>0.7307</td><td>17.377</td><td>17.208</td><td>-2.414</td><td>-45.5</td><td>10.619872</td><td>11.277079</td><td>359.95666595579</td><td>-36.06483268221</td><td>2308080072995556992</td></tr>\n",
       "<tr><td>Gaia DR3 2312626141259533312</td><td>23:59:54.695</td><td>-35:13:10.416</td><td>359.97789540952004</td><td>-35.219559898387956</td><td>9.4790000916</td><td>9.4110002518</td><td>0.624</td><td>13.943</td><td>8.072</td><td>-11.369</td><td>27.72</td><td>10.662474</td><td>11.261247</td><td>359.97793932282</td><td>-35.21961042672</td><td>2312626141259533312</td></tr>\n",
       "<tr><td>Gaia DR3 2333313280738268160</td><td>23:59:55.513</td><td>-28:16:08.780</td><td>359.98130382981395</td><td>-28.26910556527667</td><td>9.3129997253</td><td>9.2139997482</td><td>2.8203</td><td>29.341</td><td>29.108</td><td>3.691</td><td>-7.87</td><td>10.041945</td><td>10.496305</td><td>359.98145071608</td><td>-28.26908916151</td><td>2333313280738268160</td></tr>\n",
       "<tr><td>Gaia DR3 2308066634042540288</td><td>23:59:58.865</td><td>-36:10:41.870</td><td>359.99527012046093</td><td>-36.17829720925435</td><td>9.9169998169</td><td>9.7849998474</td><td>0.9129</td><td>10.157</td><td>7.82</td><td>-6.482</td><td>15.07</td><td>11.37786</td><td>12.097067</td><td>359.99531318081</td><td>-36.1783260174</td><td>2308066634042540288</td></tr>\n",
       "<tr><td>Gaia DR3 2333399485025767936</td><td>23:59:59.826</td><td>-27:43:08.456</td><td>359.9992741052112</td><td>-27.719015490446672</td><td>9.9160003662</td><td>9.8310003281</td><td>6.116</td><td>52.754</td><td>-23.053</td><td>-47.45</td><td>-13.19</td><td>10.828837</td><td>11.353631</td><td>359.99915836684</td><td>-27.7192263806</td><td>2333399485025767936</td></tr>\n",
       "</table></div>"
      ],
      "text/plain": [
       "<Table length=17757>\n",
       "            name             ra_2000_hms  ...      source_id     \n",
       "                                          ...                    \n",
       "           str28                str12     ...        int64       \n",
       "---------------------------- ------------ ... -------------------\n",
       "Gaia DR3 2312711078532837632 00:00:00.263 ... 2312711078532837632\n",
       "Gaia DR3 2312704477167095040 00:00:01.944 ... 2312704477167095040\n",
       "Gaia DR3 2313154662754924288 00:00:03.559 ... 2313154662754924288\n",
       "Gaia DR3 2333399798559115904 00:00:05.231 ... 2333399798559115904\n",
       "Gaia DR3 2334693820665572096 00:00:07.590 ... 2334693820665572096\n",
       "Gaia DR3 2307546225740273024 00:00:07.600 ... 2307546225740273024\n",
       "Gaia DR3 2332868008592476800 00:00:11.329 ... 2332868008592476800\n",
       "Gaia DR3 2314829528201886592 00:00:12.037 ... 2314829528201886592\n",
       "Gaia DR3 2306385107101883392 00:00:13.475 ... 2306385107101883392\n",
       "                         ...          ... ...                 ...\n",
       "Gaia DR3 2314292691649595136 23:59:46.990 ... 2314292691649595136\n",
       "Gaia DR3 2334558821253472256 23:59:47.020 ... 2334558821253472256\n",
       "Gaia DR3 2334678977258897536 23:59:47.816 ... 2334678977258897536\n",
       "Gaia DR3 2332975421430126848 23:59:48.041 ... 2332975421430126848\n",
       "Gaia DR3 2308080072995556992 23:59:49.577 ... 2308080072995556992\n",
       "Gaia DR3 2312626141259533312 23:59:54.695 ... 2312626141259533312\n",
       "Gaia DR3 2333313280738268160 23:59:55.513 ... 2333313280738268160\n",
       "Gaia DR3 2308066634042540288 23:59:58.865 ... 2308066634042540288\n",
       "Gaia DR3 2333399485025767936 23:59:59.826 ... 2333399485025767936"
      ]
     },
     "execution_count": 4,
     "metadata": {},
     "output_type": "execute_result"
    }
   ],
   "source": [
    "tb"
   ]
  },
  {
   "cell_type": "code",
   "execution_count": 5,
   "id": "19c02407",
   "metadata": {},
   "outputs": [],
   "source": [
    "tb.add_index('name')"
   ]
  },
  {
   "cell_type": "code",
   "execution_count": null,
   "id": "50ef9f04",
   "metadata": {},
   "outputs": [],
   "source": [
    "from gravity_obs import ob_add_target\n",
    "def single_on_for_target(grav, target, folder_name=None,\n",
    "                         usename=False, verify=False):\n",
    "    ao_mode = \"LGS_VIS\"\n",
    "    tel_alpha = target['ra_2000_hms']\n",
    "    tel_delta = target['dec_2000_dms']\n",
    "\n",
    "    if usename:\n",
    "            obname = f\"{ao_mode}_{target['name']}\".replace(' ', '_')\n",
    "    else:\n",
    "            obname = f\"{ao_mode}_{tel_alpha.split('.')[0].replace(':', '')}{tel_delta.split('.')[0].replace(':', '')}_{target['Grp']:4.1f}_{target['K']:4.1f}\".replace(' ', '_')\n",
    "\n",
    "\n",
    "    ob, obV = grav.create_OB(obname, folder_name=folder_name, overwrite=True)\n",
    "    obsDes = ob['obsDescription']\n",
    "    obsDes['name'] = target['name']\n",
    "    obsDes['userComments'] = 'Single on-axis observation test'\n",
    "\n",
    "    ob_add_target(ob, target['name'], \n",
    "                    ra = target['ra_2000_hms'], \n",
    "                    dec = target['dec_2000_dms'],\n",
    "                    pma = target['pmra'],\n",
    "                    pmd = target['pmdec'])\n",
    "    ob, obV = grav.save_OB(obname, folder_name=folder_name)\n",
    "\n",
    "\n",
    "    dit, ndit = 3, 40\n",
    "    grav.add_GRAVITY_single_onaxis_acq(name=obname, folder_name=folder_name,\n",
    "                                        sc_name=target['name'],\n",
    "                                        sc_kmag=target['K'],\n",
    "                                        sc_hmag=target['H'],\n",
    "                                        ngs_mag=target['Grp'],\n",
    "                                        ao_mode=ao_mode,\n",
    "                                        plx=target['parallax']/1e3,\n",
    "                                        baseline=['UTs'])\n",
    "    grav.add_GRAVITY_single_obs_exp(obname, folder_name=folder_name,\n",
    "                                    dit=dit, ndit_obj=ndit, ndit_sky=ndit,)\n",
    "\n",
    "    # optional verification\n",
    "    if verify:\n",
    "        obID = ob['obId']\n",
    "        response, _ = grav.api.verifyOB(obID,True)\n",
    "        if response['observable']:\n",
    "            print('*** Congratulations. Your OB' , obID, ob['name'], 'is observable!')\n",
    "        else:\n",
    "            print('OB', obID, 'is >>not observable<<. See messages below.')\n",
    "            print(' ', '\\n  '.join(response['messages']))"
   ]
  },
  {
   "cell_type": "code",
   "execution_count": 4,
   "id": "aaa73485",
   "metadata": {},
   "outputs": [],
   "source": [
    "grav = p2t.p2api_GRAVITY('116.29H7.001', 'GPLUSTeam', 'GPAOwFRINGES', no_warning=True)\n",
    "root_folder = 'TTR-116.0046 October First Light'\n",
    "grav.set_rootFolder(root_folder)"
   ]
  },
  {
   "cell_type": "code",
   "execution_count": 5,
   "id": "7ac0482c",
   "metadata": {},
   "outputs": [],
   "source": [
    "folder_name = 'single_onaxis'\n",
    "try:\n",
    "    grav.get_folder(folder_name)\n",
    "except Exception:\n",
    "    grav.create_folder(folder_name, overwrite=True)"
   ]
  },
  {
   "cell_type": "code",
   "execution_count": null,
   "id": "25f031f9",
   "metadata": {},
   "outputs": [],
   "source": [
    "target_names = [\"Gaia DR3 2312711078532837632\", \"Gaia DR3 2334558821253472256\"]\n",
    "folder_name = 'onaxis_ob_test'\n",
    "\n",
    "for obj_name in target_names:\n",
    "    target = tb.loc[obj_name]\n",
    "    single_on_for_target(grav, target, folder_name=folder_name)"
   ]
  },
  {
   "cell_type": "code",
   "execution_count": null,
   "id": "594a2ec8",
   "metadata": {},
   "outputs": [],
   "source": []
  }
 ],
 "metadata": {
  "kernelspec": {
   "display_name": "gvobs",
   "language": "python",
   "name": "python3"
  },
  "language_info": {
   "codemirror_mode": {
    "name": "ipython",
    "version": 3
   },
   "file_extension": ".py",
   "mimetype": "text/x-python",
   "name": "python",
   "nbconvert_exporter": "python",
   "pygments_lexer": "ipython3",
   "version": "3.11.13"
  }
 },
 "nbformat": 4,
 "nbformat_minor": 5
}
