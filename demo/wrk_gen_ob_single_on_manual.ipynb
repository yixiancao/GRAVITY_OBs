{
 "cells": [
  {
   "cell_type": "code",
   "execution_count": 1,
   "id": "f7cf7f22",
   "metadata": {},
   "outputs": [],
   "source": [
    "%load_ext autoreload\n",
    "%autoreload 2\n",
    "%matplotlib inline"
   ]
  },
  {
   "cell_type": "code",
   "execution_count": 2,
   "id": "3d3ef4c2",
   "metadata": {},
   "outputs": [],
   "source": [
    "from astropy.table import Table\n",
    "import gravity_obs.p2_tools as p2t"
   ]
  },
  {
   "cell_type": "code",
   "execution_count": 3,
   "id": "35026207",
   "metadata": {},
   "outputs": [],
   "source": [
    "from astroquery.simbad import Simbad"
   ]
  },
  {
   "cell_type": "code",
   "execution_count": 4,
   "id": "410e5e2b",
   "metadata": {},
   "outputs": [],
   "source": [
    "simbad = Simbad()\n",
    "simbad.add_votable_fields(\"parallax\", \"propermotions\", \"otype\", \"velocity\", 'H', \"K\", \"G\")"
   ]
  },
  {
   "cell_type": "code",
   "execution_count": 5,
   "id": "accc0ec5",
   "metadata": {},
   "outputs": [
    {
     "name": "stderr",
     "output_type": "stream",
     "text": [
      "/Users/yixiancao/anaconda3/envs/gvobs/lib/python3.11/site-packages/numpy/lib/_function_base_impl.py:2625: RuntimeWarning: invalid value encountered in do_format (vectorized)\n",
      "  outputs = ufunc(*args, out=...)\n"
     ]
    },
    {
     "name": "stdout",
     "output_type": "stream",
     "text": [
      "INFO: Query finished. [astroquery.utils.tap.core]\n",
      "INFO: Query finished. [astroquery.utils.tap.core]\n"
     ]
    }
   ],
   "source": [
    "from astropy.table import hstack, Column\n",
    "\n",
    "from gravity_obs import obs_utils, search_gaia_single\n",
    "\n",
    "target_list = [\"MHO 2\", 'FP Tau']\n",
    "\n",
    "result = Table()\n",
    "for i, targe_name in enumerate(target_list):\n",
    "    simbad_tb = simbad.query_object(targe_name)\n",
    "    ra, dec = simbad_tb['ra'][0], simbad_tb['dec'][0]\n",
    "    coord_colon = obs_utils.coord_degree_to_colon(ra, dec)\n",
    "    simbad_tb.rename_column('ra', 'ra_2000')\n",
    "    simbad_tb.rename_column('dec', 'dec_2000')\n",
    "    simbad_filter = ['ra_2000', 'dec_2000', 'H', 'K']\n",
    "\n",
    "    gaia_tb = search_gaia_single(ra = ra, dec = dec, radius=1)\n",
    "    gaia_tb.rename_column('ra', 'ra_2016')\n",
    "    gaia_tb.rename_column('dec', 'dec_2016')\n",
    "    gaia_tb.rename_column('phot_rp_mean_mag', 'Grp')\n",
    "    gaia_filter = ['Grp', 'parallax', 'pmra', 'pmdec', 'radial_velocity', 'ra_2016', 'dec_2016']\n",
    "\n",
    "    if i == 0:\n",
    "        result.add_column(Column(name=\"name\", data=[], dtype=str))\n",
    "        result.add_column(Column(name=\"ra_2000_hms\", data=[], dtype=coord_colon[0].dtype, unit = 'J2000'))\n",
    "        result.add_column(Column(name=\"dec_2000_dms\", data=[], dtype=coord_colon[1].dtype, unit = 'J2000'))\n",
    "\n",
    "        for name in simbad_filter:\n",
    "            result.add_column(Column(name=name, data=[], dtype=simbad_tb[name].dtype, \n",
    "                                     unit = simbad_tb[name].unit))\n",
    "        for name in gaia_filter:\n",
    "            result.add_column(Column(name=name, data=[], dtype=gaia_tb[name].dtype, \n",
    "                                     unit = gaia_tb[name].unit))\n",
    "\n",
    "    new_tb = hstack([simbad_tb[simbad_filter], gaia_tb[gaia_filter]])\n",
    "    row = [targe_name, coord_colon[0], coord_colon[1]] + [new_tb[col][0] for col in new_tb.colnames]\n",
    "    result.add_row(row)\n",
    "    #print(name, result, gaia_tb)"
   ]
  },
  {
   "cell_type": "code",
   "execution_count": 6,
   "id": "b2f02b24",
   "metadata": {},
   "outputs": [
    {
     "data": {
      "text/html": [
       "<div><i>Table length=2</i>\n",
       "<table id=\"table4586126672\" class=\"table-striped table-bordered table-condensed\">\n",
       "<thead><tr><th>name</th><th>ra_2000_hms</th><th>dec_2000_dms</th><th>ra_2000</th><th>dec_2000</th><th>H</th><th>K</th><th>Grp</th><th>parallax</th><th>pmra</th><th>pmdec</th><th>radial_velocity</th><th>ra_2016</th><th>dec_2016</th></tr></thead>\n",
       "<thead><tr><th></th><th>J2000</th><th>J2000</th><th>deg</th><th>deg</th><th></th><th></th><th>mag</th><th>mas</th><th>mas / yr</th><th>mas / yr</th><th>km / s</th><th>deg</th><th>deg</th></tr></thead>\n",
       "<thead><tr><th>str6</th><th>str12</th><th>str14</th><th>float64</th><th>float64</th><th>float64</th><th>float64</th><th>float32</th><th>float64</th><th>float64</th><th>float64</th><th>float32</th><th>float64</th><th>float64</th></tr></thead>\n",
       "<tr><td>MHO 2</td><td>04:14:26.401</td><td>+28:05:59.636</td><td>63.6100039315</td><td>28.099898862589995</td><td>9.423999786376953</td><td>7.791999816894531</td><td>15.376802</td><td>7.632029543003263</td><td>9.888589479587575</td><td>-25.38592582877389</td><td>0.0</td><td>63.61005375340543</td><td>28.09978603626571</td></tr>\n",
       "<tr><td>FP Tau</td><td>04:14:47.303</td><td>+26:46:26.414</td><td>63.697097118120006</td><td>26.774003997700003</td><td>9.175000190734863</td><td>8.873000144958496</td><td>11.568479</td><td>7.844095665315957</td><td>8.989825384713045</td><td>-22.657513948657588</td><td>25.926144</td><td>63.69714187092417</td><td>26.773903297413405</td></tr>\n",
       "</table></div>"
      ],
      "text/plain": [
       "<Table length=2>\n",
       " name  ra_2000_hms   dec_2000_dms  ...      ra_2016           dec_2016     \n",
       "          J2000         J2000      ...        deg               deg        \n",
       " str6     str12         str14      ...      float64           float64      \n",
       "------ ------------ -------------- ... ----------------- ------------------\n",
       " MHO 2 04:14:26.401  +28:05:59.636 ... 63.61005375340543  28.09978603626571\n",
       "FP Tau 04:14:47.303  +26:46:26.414 ... 63.69714187092417 26.773903297413405"
      ]
     },
     "execution_count": 6,
     "metadata": {},
     "output_type": "execute_result"
    }
   ],
   "source": [
    "result"
   ]
  },
  {
   "cell_type": "code",
   "execution_count": null,
   "id": "50ef9f04",
   "metadata": {},
   "outputs": [],
   "source": [
    "from gravity_obs import ob_add_target\n",
    "def single_on_for_target(grav, target, folder_name=None,\n",
    "                         usename=False, verify=False):\n",
    "    ao_mode = \"LGS_VIS\"\n",
    "    tel_alpha = target['ra_2000_hms']\n",
    "    tel_delta = target['dec_2000_dms']\n",
    "\n",
    "    if usename:\n",
    "        obname = f\"{ao_mode}_{target['name']}\".replace(' ', '_')\n",
    "    else:\n",
    "        obname = f\"{ao_mode}_{tel_alpha.strip().split('.')[0].replace(':', '')}{tel_delta.strip().split('.')[0].replace(':', '')}_{target['Grp']:4.1f}_{target['K']:4.1f}\".replace(' ', '_')\n",
    "\n",
    "\n",
    "    ob, obV = grav.create_OB(obname, folder_name=folder_name, overwrite=True)\n",
    "    obsDes = ob['obsDescription']\n",
    "    obsDes['name'] = target['name']\n",
    "    obsDes['userComments'] = 'Single on-axis observation test'\n",
    "\n",
    "    ob_add_target(ob, target['name'], \n",
    "                    ra = target['ra_2000_hms'], \n",
    "                    dec = target['dec_2000_dms'],\n",
    "                    pma = target['pmra'],\n",
    "                    pmd = target['pmdec'])\n",
    "    ob, obV = grav.save_OB(obname, folder_name=folder_name)\n",
    "\n",
    "\n",
    "    dit, ndit = 3, 40\n",
    "    grav.add_GRAVITY_single_onaxis_acq(name=obname, folder_name=folder_name,\n",
    "                                        sc_name=target['name'],\n",
    "                                        sc_kmag=target['K'],\n",
    "                                        sc_hmag=target['H'],\n",
    "                                        ngs_mag=float(target['Grp']),\n",
    "                                        ao_mode=ao_mode,\n",
    "                                        plx=target['parallax']/1e3,\n",
    "                                        baseline=['UTs'])\n",
    "    grav.add_GRAVITY_single_obs_exp(obname, folder_name=folder_name,\n",
    "                                    dit=dit, ndit_obj=ndit, ndit_sky=ndit,)\n",
    "\n",
    "    # optional verification\n",
    "    if verify:\n",
    "        obID = ob['obId']\n",
    "        response, _ = grav.api.verifyOB(obID,True)\n",
    "        if response['observable']:\n",
    "            print('*** Congratulations. Your OB' , obID, ob['name'], 'is observable!')\n",
    "        else:\n",
    "            print('OB', obID, 'is >>not observable<<. See messages below.')\n",
    "            print(' ', '\\n  '.join(response['messages']))"
   ]
  },
  {
   "cell_type": "code",
   "execution_count": 16,
   "id": "ce68966a",
   "metadata": {},
   "outputs": [
    {
     "data": {
      "text/plain": [
       "('04:14:47', '+26:46:26')"
      ]
     },
     "execution_count": 16,
     "metadata": {},
     "output_type": "execute_result"
    }
   ],
   "source": [
    "tel_alpha = target['ra_2000_hms']\n",
    "tel_delta = target['dec_2000_dms']\n",
    "tel_alpha.split('.')[0], tel_delta.strip().split('.')[0]"
   ]
  },
  {
   "cell_type": "code",
   "execution_count": 8,
   "id": "aaa73485",
   "metadata": {},
   "outputs": [],
   "source": [
    "grav = p2t.p2api_GRAVITY('116.29H7.001', 'GPLUSTeam', 'GPAOwFRINGES', no_warning=True)\n",
    "root_folder = 'TTR-116.0046 October First Light'\n",
    "grav.set_rootFolder(root_folder)"
   ]
  },
  {
   "cell_type": "code",
   "execution_count": 9,
   "id": "ebde29cd",
   "metadata": {},
   "outputs": [],
   "source": [
    "tb = result\n",
    "tb.add_index(colnames='name')\n"
   ]
  },
  {
   "cell_type": "code",
   "execution_count": null,
   "id": "25f031f9",
   "metadata": {},
   "outputs": [
    {
     "name": "stdout",
     "output_type": "stream",
     "text": [
      "MHO 2\n",
      "FP Tau\n"
     ]
    }
   ],
   "source": [
    "folder_name = 'onaxis_ob_test'\n",
    "\n",
    "try:\n",
    "    grav.get_folder(folder_name)\n",
    "except Exception:\n",
    "    grav.create_folder(folder_name, overwrite=True)\n",
    "\n",
    "tb = result.copy()\n",
    "for obj_name in tb['name']:\n",
    "    print (obj_name)\n",
    "    target = tb.loc[obj_name]\n",
    "    single_on_for_target(grav, target, folder_name=folder_name)"
   ]
  },
  {
   "cell_type": "code",
   "execution_count": null,
   "id": "a0c9b203",
   "metadata": {},
   "outputs": [],
   "source": []
  }
 ],
 "metadata": {
  "kernelspec": {
   "display_name": "gvobs",
   "language": "python",
   "name": "python3"
  },
  "language_info": {
   "codemirror_mode": {
    "name": "ipython",
    "version": 3
   },
   "file_extension": ".py",
   "mimetype": "text/x-python",
   "name": "python",
   "nbconvert_exporter": "python",
   "pygments_lexer": "ipython3",
   "version": "3.11.13"
  }
 },
 "nbformat": 4,
 "nbformat_minor": 5
}
