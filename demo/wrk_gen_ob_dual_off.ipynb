{
 "cells": [
  {
   "cell_type": "code",
   "execution_count": 1,
   "id": "f7cf7f22",
   "metadata": {},
   "outputs": [],
   "source": [
    "%load_ext autoreload\n",
    "%autoreload 2\n",
    "%matplotlib inline"
   ]
  },
  {
   "cell_type": "code",
   "execution_count": 2,
   "id": "3d3ef4c2",
   "metadata": {},
   "outputs": [],
   "source": [
    "from astropy.table import Table\n",
    "import gravity_obs.p2_tools as p2t"
   ]
  },
  {
   "cell_type": "code",
   "execution_count": 3,
   "id": "31296f1f",
   "metadata": {},
   "outputs": [],
   "source": [
    "table_path = '../../gvprep/tabs/star_k9-12mag_grp10-12mag_gaia_pairs.ipac'\n",
    "tb = Table.read(table_path, format='ascii.ipac')"
   ]
  },
  {
   "cell_type": "code",
   "execution_count": 4,
   "id": "331ddb1a",
   "metadata": {},
   "outputs": [
    {
     "data": {
      "text/html": [
       "<div><i>Table length=561</i>\n",
       "<table id=\"table4739423248\" class=\"table-striped table-bordered table-condensed\">\n",
       "<thead><tr><th>name</th><th>ra_2000_hms</th><th>dec_2000_dms</th><th>ra_2000</th><th>dec_2000</th><th>parallax</th><th>pm</th><th>pmra</th><th>pmdec</th><th>radial_velocity</th><th>Grp</th><th>G</th><th>ra_2016</th><th>dec_2016</th><th>source_id</th><th>name_ft</th><th>ra_2000_hms_ft</th><th>dec_2000_dms_ft</th><th>ra_2000_ft</th><th>dec_2000_ft</th><th>H_ft</th><th>K_ft</th><th>parallax_ft</th><th>pm_ft</th><th>pmra_ft</th><th>pmdec_ft</th><th>radial_velocity_ft</th><th>Grp_ft</th><th>G_ft</th><th>ra_2016_ft</th><th>dec_2016_ft</th><th>source_id_ft</th><th>sobj_x</th><th>sobj_y</th><th>sep</th><th>pa</th></tr></thead>\n",
       "<thead><tr><th></th><th></th><th></th><th></th><th></th><th>mas</th><th>mas / yr</th><th>mas / yr</th><th>mas / yr</th><th>km / s</th><th>mag</th><th>mag</th><th>deg</th><th>deg</th><th></th><th></th><th></th><th></th><th></th><th></th><th>mag</th><th>mag</th><th>mas</th><th>mas / yr</th><th>mas / yr</th><th>mas / yr</th><th>km / s</th><th>mag</th><th>mag</th><th>deg</th><th>deg</th><th></th><th>mas</th><th>mas</th><th>arcsec</th><th>deg</th></tr></thead>\n",
       "<thead><tr><th>str28</th><th>str12</th><th>str13</th><th>float64</th><th>float64</th><th>float64</th><th>float64</th><th>float64</th><th>float64</th><th>float64</th><th>float64</th><th>float64</th><th>float64</th><th>float64</th><th>int64</th><th>str28</th><th>str12</th><th>str13</th><th>float64</th><th>float64</th><th>float64</th><th>float64</th><th>float64</th><th>float64</th><th>float64</th><th>float64</th><th>float64</th><th>float64</th><th>float64</th><th>float64</th><th>float64</th><th>int64</th><th>float64</th><th>float64</th><th>float64</th><th>float64</th></tr></thead>\n",
       "<tr><td>Gaia DR3 2341844906852746368</td><td>00:00:02.943</td><td>-19:50:48.367</td><td>0.012260791705641448</td><td>-19.846768705463113</td><td>3.5114</td><td>29.492</td><td>0.426</td><td>-29.489</td><td>-10.1</td><td>10.817062</td><td>11.769627</td><td>0.01226280585</td><td>-19.84689976729</td><td>2341844906852746368</td><td>Gaia DR3 2341844906852744960</td><td>00:00:02.880</td><td>-19:50:47.733</td><td>0.012000535043</td><td>-19.84659248</td><td>9.7840003967</td><td>9.7069997787</td><td>4.0482</td><td>28.909</td><td>0.724</td><td>-28.899</td><td>-6.23</td><td>10.772411</td><td>12.115517</td><td>0.01200395497</td><td>-19.846720922</td><td>2341844906852744960</td><td>873.5902877630645</td><td>-649.6303633691983</td><td>1.0886595426877728</td><td>126.63570122745283</td></tr>\n",
       "<tr><td>Gaia DR3 2314519534641619072</td><td>00:00:48.419</td><td>-31:24:08.551</td><td>0.2017465628668493</td><td>-31.402375276095544</td><td>1.9224</td><td>76.271</td><td>40.103</td><td>-64.878</td><td>--</td><td>11.25193</td><td>12.474266</td><td>0.20195538217</td><td>-31.40266362203</td><td>2314519534641619072</td><td>Gaia DR3 2314519534642211968</td><td>00:00:48.458</td><td>-31:24:08.366</td><td>0.20191001276</td><td>-31.402323892</td><td>10.355999947</td><td>10.262000084</td><td>1.8048</td><td>74.96</td><td>38.581</td><td>-64.269</td><td>--</td><td>11.243553</td><td>12.437418</td><td>0.20211090932</td><td>-31.402609531</td><td>2314519534642211968</td><td>-462.9589566323816</td><td>-200.70097727240034</td><td>0.5045908023381322</td><td>246.56240651398505</td></tr>\n",
       "<tr><td>Gaia DR3 2414405355661710336</td><td>00:00:52.555</td><td>-17:38:52.103</td><td>0.2189781406721571</td><td>-17.64780632852596</td><td>2.6526</td><td>12.156</td><td>4.646</td><td>-11.234</td><td>-5.05</td><td>10.520113</td><td>11.390596</td><td>0.21899980915</td><td>-17.64785625575</td><td>2414405355661710336</td><td>Gaia DR3 2414405355662647808</td><td>00:00:52.477</td><td>-17:38:52.594</td><td>0.21865548352</td><td>-17.647942807</td><td>9.6160001755</td><td>9.5419998169</td><td>2.6362</td><td>12.297</td><td>5.671</td><td>-10.911</td><td>-6.41</td><td>10.340529</td><td>11.161269</td><td>0.2186819343</td><td>-17.6479913</td><td>2414405355662647808</td><td>1080.440578197648</td><td>482.99047282048576</td><td>1.183482843074383</td><td>65.91387453484865</td></tr>\n",
       "<tr><td>Gaia DR3 2314335224710182528</td><td>00:02:31.762</td><td>-32:03:29.921</td><td>0.6323409784329383</td><td>-32.05831151437864</td><td>2.9534</td><td>16.078</td><td>5.455</td><td>-15.124</td><td>--</td><td>10.797275</td><td>11.574282</td><td>0.63236958442</td><td>-32.05837873164</td><td>2314335224710182528</td><td>Gaia DR3 2314335229005732992</td><td>00:02:31.748</td><td>-32:03:30.687</td><td>0.63228524427</td><td>-32.058524173</td><td>10.130000114</td><td>10.067000389</td><td>1.8595</td><td>15.252</td><td>4.579</td><td>-14.548</td><td>--</td><td>10.776859</td><td>12.335009</td><td>0.6323092588</td><td>-32.058588832</td><td>2314335229005732992</td><td>192.64661820872644</td><td>750.711930192581</td><td>0.7750362066643917</td><td>14.392592943043438</td></tr>\n",
       "<tr><td>Gaia DR3 2421635331809030016</td><td>00:03:00.360</td><td>-11:58:27.625</td><td>0.7514999241450625</td><td>-11.974340378172274</td><td>1.6997</td><td>21.328</td><td>2.86</td><td>-21.135</td><td>18.69</td><td>10.828333</td><td>11.583986</td><td>0.75151291712</td><td>-11.97443431253</td><td>2421635331809030016</td><td>Gaia DR3 2421635331810404608</td><td>00:03:00.293</td><td>-11:58:27.847</td><td>0.75122255594</td><td>-11.974401856</td><td>10.081000328</td><td>9.9790000916</td><td>1.4545</td><td>20.799</td><td>2.181</td><td>-20.684</td><td>20.57</td><td>10.775371</td><td>12.19432</td><td>0.75123246451</td><td>-11.974493786</td><td>2421635331810404608</td><td>994.3194374037781</td><td>209.68065717669384</td><td>1.0161875425299292</td><td>78.09201742865505</td></tr>\n",
       "<tr><td>Gaia DR3 2415871829296257280</td><td>00:03:04.311</td><td>-15:29:37.615</td><td>0.7679619005080659</td><td>-15.493781986570562</td><td>4.7633</td><td>41.227</td><td>-35.507</td><td>-20.951</td><td>17.62</td><td>12.13384</td><td>12.959554</td><td>0.76779813945</td><td>-15.49387510144</td><td>2415871829296257280</td><td>Gaia DR3 2415871829295257984</td><td>00:03:04.223</td><td>-15:29:38.465</td><td>0.76759580927</td><td>-15.494018133</td><td>10.151000023</td><td>10.010000229</td><td>5.2841</td><td>41.318</td><td>-36.465</td><td>-19.428</td><td>17.61</td><td>11.998395</td><td>13.019423</td><td>0.76742762979</td><td>-15.49410448</td><td>2415871829295257984</td><td>1294.7578033451086</td><td>810.8243532448048</td><td>1.527689072140633</td><td>57.94370718519913</td></tr>\n",
       "<tr><td>Gaia DR3 2313395936838051968</td><td>00:05:41.769</td><td>-32:47:07.833</td><td>1.4240354265988613</td><td>-32.785509054880166</td><td>5.9683</td><td>24.931</td><td>-22.28</td><td>-11.187</td><td>8.6</td><td>11.967402</td><td>13.564322</td><td>1.42391764093</td><td>-32.7855587765</td><td>2313395936838051968</td><td>Gaia DR3 2313395936837386112</td><td>00:05:41.809</td><td>-32:47:08.384</td><td>1.4242029899</td><td>-32.785662123</td><td>10.286999702</td><td>10.098999977</td><td>5.997</td><td>27.227</td><td>-23.048</td><td>-14.496</td><td>1.59</td><td>11.962945</td><td>13.573459</td><td>1.424081147</td><td>-32.785726548</td><td>2313395936837386112</td><td>-487.32309912736685</td><td>636.4311803110332</td><td>0.8015787236542625</td><td>322.5582798774452</td></tr>\n",
       "<tr><td>Gaia DR3 2320529121602793216</td><td>00:07:30.549</td><td>-30:39:55.102</td><td>1.8772857407652335</td><td>-30.665306075801425</td><td>3.7758</td><td>54.26</td><td>52.872</td><td>-12.196</td><td>-18.25</td><td>12.018405</td><td>13.411941</td><td>1.87755892928</td><td>-30.66536028222</td><td>2320529121602793216</td><td>Gaia DR3 2320529121601751680</td><td>00:07:30.598</td><td>-30:39:55.731</td><td>1.8774899109</td><td>-30.665480964</td><td>10.637000084</td><td>10.517000198</td><td>3.9564</td><td>49.749</td><td>47.134</td><td>-15.917</td><td>-5.85</td><td>11.986412</td><td>13.471788</td><td>1.8777334541</td><td>-30.665551705</td><td>2320529121601751680</td><td>-484.1530491576764</td><td>725.6166438755085</td><td>0.8723093997417615</td><td>326.28760080458284</td></tr>\n",
       "<tr><td>Gaia DR3 2418260552666221184</td><td>00:08:42.704</td><td>-13:05:36.166</td><td>2.177935355935048</td><td>-13.09337936838398</td><td>6.5898</td><td>38.436</td><td>36.845</td><td>-10.943</td><td>-18.3</td><td>11.651708</td><td>12.574987</td><td>2.17810348399</td><td>-13.09342800422</td><td>2418260552666221184</td><td>Gaia DR3 2418260552667117952</td><td>00:08:42.618</td><td>-13:05:37.113</td><td>2.1775765752</td><td>-13.093642602</td><td>9.5419998169</td><td>9.388999939</td><td>6.7605</td><td>39.652</td><td>38.289</td><td>-10.305</td><td>-19.78</td><td>11.328109</td><td>12.171266</td><td>2.1777512913</td><td>-13.093688402</td><td>2418260552667117952</td><td>1220.767812723025</td><td>931.1737713145845</td><td>1.535369221055569</td><td>52.664440106810574</td></tr>\n",
       "<tr><td>...</td><td>...</td><td>...</td><td>...</td><td>...</td><td>...</td><td>...</td><td>...</td><td>...</td><td>...</td><td>...</td><td>...</td><td>...</td><td>...</td><td>...</td><td>...</td><td>...</td><td>...</td><td>...</td><td>...</td><td>...</td><td>...</td><td>...</td><td>...</td><td>...</td><td>...</td><td>...</td><td>...</td><td>...</td><td>...</td><td>...</td><td>...</td><td>...</td><td>...</td><td>...</td><td>...</td></tr>\n",
       "<tr><td>Gaia DR3 2311895034746325376</td><td>23:43:06.276</td><td>-35:38:24.439</td><td>355.7761513686917</td><td>-35.64012193956901</td><td>1.4351</td><td>11.949</td><td>11.382</td><td>3.636</td><td>-44.76</td><td>11.622026</td><td>12.757235</td><td>355.77621361545</td><td>-35.64010578079</td><td>2311895034746325376</td><td>Gaia DR3 2311895030451205632</td><td>23:43:06.212</td><td>-35:38:24.159</td><td>355.77588259</td><td>-35.640044114</td><td>10.800000191</td><td>10.682999611</td><td>1.4213</td><td>11.903</td><td>10.886</td><td>4.814</td><td>-59.93</td><td>11.611227</td><td>12.699057</td><td>355.77594213</td><td>-35.64002272</td><td>2311895030451205632</td><td>799.1485348342728</td><td>-310.57359462923716</td><td>0.8573764274860203</td><td>111.23765085775325</td></tr>\n",
       "<tr><td>Gaia DR3 2339430821699529728</td><td>23:44:07.872</td><td>-23:15:40.039</td><td>356.03280148026505</td><td>-23.261122071926195</td><td>2.0475</td><td>41.11</td><td>39.657</td><td>10.833</td><td>3.32</td><td>11.104251</td><td>11.80019</td><td>356.03299332792</td><td>-23.26107392471</td><td>2339430821699529728</td><td>Gaia DR3 2339430825994686592</td><td>23:44:07.816</td><td>-23:15:41.150</td><td>356.0325669</td><td>-23.261430444</td><td>10.126000404</td><td>10.050000191</td><td>2.4824</td><td>41.944</td><td>40.217</td><td>11.909</td><td>--</td><td>10.879709</td><td>12.0369</td><td>356.03276146</td><td>-23.261377517</td><td>2339430825994686592</td><td>761.3807132484163</td><td>1082.3784018262588</td><td>1.3233456068792588</td><td>35.12381936639819</td></tr>\n",
       "<tr><td>Gaia DR3 2326520562324748160</td><td>23:45:20.179</td><td>-31:00:24.150</td><td>356.3340793706749</td><td>-31.006708199795032</td><td>2.3531</td><td>18.294</td><td>15.001</td><td>-10.472</td><td>-37.53</td><td>10.441723</td><td>11.766961</td><td>356.33415715558</td><td>-31.0067547411</td><td>2326520562324748160</td><td>Gaia DR3 2326520566619875328</td><td>23:45:20.217</td><td>-31:00:24.851</td><td>356.33423823</td><td>-31.006903122</td><td>9.5710000992</td><td>9.470000267</td><td>2.1785</td><td>17.139</td><td>14.443</td><td>-9.227</td><td>--</td><td>10.438858</td><td>11.501193</td><td>356.33431312</td><td>-31.006944133</td><td>2326520566619875328</td><td>-475.7684999839342</td><td>669.5996717101112</td><td>0.8214130422213003</td><td>324.6051864035712</td></tr>\n",
       "<tr><td>Gaia DR3 2432782283770599168</td><td>23:46:26.010</td><td>-11:34:30.460</td><td>356.6083758356582</td><td>-11.575127758559669</td><td>3.5056</td><td>6.864</td><td>-6.097</td><td>-3.154</td><td>-7.06</td><td>11.4308</td><td>12.442263</td><td>356.60834817746</td><td>-11.57514177792</td><td>2432782283770599168</td><td>Gaia DR3 2432782283771067008</td><td>23:46:25.960</td><td>-11:34:29.463</td><td>356.60816819</td><td>-11.574850734</td><td>10.322999954</td><td>10.18500042</td><td>3.5522</td><td>7.53</td><td>-7.196</td><td>-2.218</td><td>-9.7</td><td>11.313301</td><td>12.446212</td><td>356.60813555</td><td>-11.57486059</td><td>2432782283771067008</td><td>760.6699789109698</td><td>-1021.4569301363174</td><td>1.2735749200341238</td><td>143.32526919699797</td></tr>\n",
       "<tr><td>Gaia DR3 6534613421684630272</td><td>23:48:20.206</td><td>-39:41:23.610</td><td>357.0841937406456</td><td>-39.68989161556634</td><td>4.4068</td><td>58.712</td><td>-44.078</td><td>-38.784</td><td>20.61</td><td>11.233408</td><td>12.499515</td><td>357.08393915779</td><td>-39.69006398976</td><td>6534613421684630272</td><td>Gaia DR3 6534613421685410176</td><td>23:48:20.251</td><td>-39:41:23.223</td><td>357.08437817</td><td>-39.689784163</td><td>10.17800045</td><td>10.140000343</td><td>4.0843</td><td>57.14</td><td>-42.836</td><td>-37.816</td><td>20.45</td><td>11.225658</td><td>12.51472</td><td>357.08413076</td><td>-39.689952237</td><td>6534613421685410176</td><td>-542.9647262217018</td><td>-411.8044530048454</td><td>0.6814643067950278</td><td>232.82198000453764</td></tr>\n",
       "<tr><td>Gaia DR3 2334378466985824384</td><td>23:51:37.188</td><td>-27:10:58.148</td><td>357.90494875868785</td><td>-27.18281875563551</td><td>2.0803</td><td>34.815</td><td>31.127</td><td>15.595</td><td>--</td><td>10.893661</td><td>12.076943</td><td>357.90510427533</td><td>-27.18274944462</td><td>2334378466985824384</td><td>Gaia DR3 2334378466986459776</td><td>23:51:37.147</td><td>-27:10:58.156</td><td>357.9047777</td><td>-27.182821184</td><td>10.005999565</td><td>9.9219999313</td><td>0.67</td><td>40.771</td><td>35.083</td><td>20.771</td><td>--</td><td>10.890994</td><td>12.133166</td><td>357.90495298</td><td>-27.182728868</td><td>2334378466986459776</td><td>445.7078046872302</td><td>-124.84144490980776</td><td>0.46286157058701544</td><td>105.64740306430436</td></tr>\n",
       "<tr><td>Gaia DR3 2326966865261268608</td><td>23:51:59.109</td><td>-30:24:37.368</td><td>357.99628946275965</td><td>-30.41038009328972</td><td>4.4921</td><td>28.371</td><td>27.416</td><td>-7.298</td><td>0.96</td><td>11.471108</td><td>12.878053</td><td>357.99643075137</td><td>-30.41041253072</td><td>2326966865261268608</td><td>Gaia DR3 2326966865262400256</td><td>23:51:59.074</td><td>-30:24:37.846</td><td>357.99614026</td><td>-30.410512904</td><td>10.19299984</td><td>10.092000008</td><td>5.1583</td><td>29.486</td><td>29.165</td><td>-4.341</td><td>2.68</td><td>11.464905</td><td>12.871904</td><td>357.99629056</td><td>-30.410532198</td><td>2326966865262400256</td><td>418.100398343304</td><td>401.80018613393577</td><td>0.5798718243474975</td><td>46.138931192501595</td></tr>\n",
       "<tr><td>Gaia DR3 2389970084123793152</td><td>23:57:06.466</td><td>-19:23:51.222</td><td>359.2769405111012</td><td>-19.397561661953425</td><td>2.1329</td><td>26.467</td><td>26.429</td><td>-1.408</td><td>18.74</td><td>12.18539</td><td>13.721396</td><td>359.27706504346</td><td>-19.3975679204</td><td>2389970084123793152</td><td>Gaia DR3 2389970084124861440</td><td>23:57:06.440</td><td>-19:23:52.797</td><td>359.27683282</td><td>-19.397999283</td><td>11.038000107</td><td>10.93999958</td><td>1.8257</td><td>25.554</td><td>25.532</td><td>-1.065</td><td>13.16</td><td>11.81726</td><td>12.441806</td><td>359.27695313</td><td>-19.398004015</td><td>2389970084124861440</td><td>388.81610303809805</td><td>1566.5763517038142</td><td>1.614106386735201</td><td>13.938855949264598</td></tr>\n",
       "<tr><td>Gaia DR3 2422804078309525504</td><td>23:59:51.794</td><td>-10:33:03.354</td><td>359.9658103391124</td><td>-10.550931800461177</td><td>4.9727</td><td>8.949</td><td>8.298</td><td>-3.351</td><td>3.64</td><td>10.601219</td><td>11.874869</td><td>359.96584785268</td><td>-10.55094669453</td><td>2422804078309525504</td><td>Gaia DR3 2422804078310696320</td><td>23:59:51.759</td><td>-10:33:02.926</td><td>359.96566292</td><td>-10.550812869</td><td>9.7150001526</td><td>9.579000473</td><td>5.1449</td><td>8.88</td><td>8.46</td><td>-2.698</td><td>--</td><td>10.600896</td><td>11.864249</td><td>359.96570117</td><td>-10.550824861</td><td>2422804078310696320</td><td>517.5406357462643</td><td>-445.0053368685662</td><td>0.6825526056577277</td><td>130.69046429811723</td></tr>\n",
       "</table></div>"
      ],
      "text/plain": [
       "<Table length=561>\n",
       "            name             ra_2000_hms  ...         pa        \n",
       "                                          ...        deg        \n",
       "           str28                str12     ...      float64      \n",
       "---------------------------- ------------ ... ------------------\n",
       "Gaia DR3 2341844906852746368 00:00:02.943 ... 126.63570122745283\n",
       "Gaia DR3 2314519534641619072 00:00:48.419 ... 246.56240651398505\n",
       "Gaia DR3 2414405355661710336 00:00:52.555 ...  65.91387453484865\n",
       "Gaia DR3 2314335224710182528 00:02:31.762 ... 14.392592943043438\n",
       "Gaia DR3 2421635331809030016 00:03:00.360 ...  78.09201742865505\n",
       "Gaia DR3 2415871829296257280 00:03:04.311 ...  57.94370718519913\n",
       "Gaia DR3 2313395936838051968 00:05:41.769 ...  322.5582798774452\n",
       "Gaia DR3 2320529121602793216 00:07:30.549 ... 326.28760080458284\n",
       "Gaia DR3 2418260552666221184 00:08:42.704 ... 52.664440106810574\n",
       "                         ...          ... ...                ...\n",
       "Gaia DR3 2311895034746325376 23:43:06.276 ... 111.23765085775325\n",
       "Gaia DR3 2339430821699529728 23:44:07.872 ...  35.12381936639819\n",
       "Gaia DR3 2326520562324748160 23:45:20.179 ...  324.6051864035712\n",
       "Gaia DR3 2432782283770599168 23:46:26.010 ... 143.32526919699797\n",
       "Gaia DR3 6534613421684630272 23:48:20.206 ... 232.82198000453764\n",
       "Gaia DR3 2334378466985824384 23:51:37.188 ... 105.64740306430436\n",
       "Gaia DR3 2326966865261268608 23:51:59.109 ... 46.138931192501595\n",
       "Gaia DR3 2389970084123793152 23:57:06.466 ... 13.938855949264598\n",
       "Gaia DR3 2422804078309525504 23:59:51.794 ... 130.69046429811723"
      ]
     },
     "execution_count": 4,
     "metadata": {},
     "output_type": "execute_result"
    }
   ],
   "source": [
    "tb"
   ]
  },
  {
   "cell_type": "code",
   "execution_count": 10,
   "id": "beb5e66c",
   "metadata": {},
   "outputs": [],
   "source": [
    "tb['K'] = tb['G']-2.5\n",
    "tb['H'] = tb['G']-2.2"
   ]
  },
  {
   "cell_type": "code",
   "execution_count": 5,
   "id": "19c02407",
   "metadata": {},
   "outputs": [],
   "source": [
    "tb.add_index('name')"
   ]
  },
  {
   "cell_type": "code",
   "execution_count": null,
   "id": "50ef9f04",
   "metadata": {},
   "outputs": [],
   "source": [
    "from gravity_obs import ob_add_target\n",
    "def dual_off_for_target(grav, target, folder_name=None,\n",
    "                         usename=False, verify=False):\n",
    "    ao_mode = \"LGS_VIS\"\n",
    "    tel_alpha = target['ra_2000_hms']\n",
    "    tel_delta = target['dec_2000_dms']\n",
    "\n",
    "    if usename:\n",
    "        obname = f\"{ao_mode}_{target['name']}\".replace(' ', '_')\n",
    "    else:\n",
    "        obname = f\"{ao_mode}_{tel_alpha.split('.')[0].replace(':', '')}{tel_delta.split('.')[0].replace(':', '')}_{target['Grp']:4.1f}_{target['K']:4.1f}\".replace(' ', '_')\n",
    "\n",
    "\n",
    "    ob, obV = grav.create_OB(obname, folder_name=folder_name, overwrite=True)\n",
    "    obsDes = ob['obsDescription']\n",
    "    obsDes['name'] = target['name']\n",
    "    obsDes['userComments'] = 'Dual on-axis observation test'\n",
    "\n",
    "    ob_add_target(ob, target['name'], \n",
    "                    ra = target['ra_2000_hms'], \n",
    "                    dec = target['dec_2000_dms'],\n",
    "                    pma = target['pmra']/1e3,\n",
    "                    pmd = target['pmdec']/1e3)\n",
    "    ob, obV = grav.save_OB(obname, folder_name=folder_name)\n",
    "\n",
    "\n",
    "    dit, ndit = 3, 40\n",
    "    grav.add_GRAVITY_dual_offaxis_acq(name=obname, folder_name=folder_name,\n",
    "                                    sc_name=target['name'],\n",
    "                                    sc_kmag=target['K'],\n",
    "                                    sc_hmag=target['H'],\n",
    "                                    sobj_x = target['sobj_x'],\n",
    "                                    sobj_y = target['sobj_y'],\n",
    "                                    sc_plx=target['parallax']/1e3,\n",
    "                                    ft_kmag=target['K_ft'],\n",
    "                                    ft_hmag=target['H_ft'],\n",
    "                                    ft_plx=target['parallax_ft']/1e3,\n",
    "                                    ngs_mag=target['Grp_ft'],\n",
    "                                    ao_mode=ao_mode,\n",
    "                                    baseline=['UTs'])\n",
    "    grav.add_GRAVITY_dual_obs_exp(obname, folder_name=folder_name,\n",
    "                                    dit=dit, ndit_obj=ndit, ndit_sky=ndit,)\n",
    "\n",
    "    # optional verification\n",
    "    if verify:\n",
    "        obID = ob['obId']\n",
    "        response, _ = grav.api.verifyOB(obID,True)\n",
    "        if response['observable']:\n",
    "            print('*** Congratulations. Your OB' , obID, ob['name'], 'is observable!')\n",
    "        else:\n",
    "            print('OB', obID, 'is >>not observable<<. See messages below.')\n",
    "            print(' ', '\\n  '.join(response['messages']))"
   ]
  },
  {
   "cell_type": "code",
   "execution_count": 7,
   "id": "aaa73485",
   "metadata": {},
   "outputs": [],
   "source": [
    "grav = p2t.p2api_GRAVITY('116.29H7.001', 'GPLUSTeam', 'GPAOwFRINGES', no_warning=True)\n",
    "root_folder = 'TTR-116.0046 October First Light'\n",
    "grav.set_rootFolder(root_folder)"
   ]
  },
  {
   "cell_type": "code",
   "execution_count": 8,
   "id": "25f031f9",
   "metadata": {},
   "outputs": [],
   "source": [
    "folder_name = 'dual_offaxis_ob_test'\n",
    "try:\n",
    "    grav.get_folder(folder_name)\n",
    "except Exception:\n",
    "    grav.create_folder(folder_name, overwrite=True)"
   ]
  },
  {
   "cell_type": "code",
   "execution_count": 9,
   "id": "594a2ec8",
   "metadata": {},
   "outputs": [
    {
     "ename": "KeyError",
     "evalue": "'K'",
     "output_type": "error",
     "traceback": [
      "\u001b[31m---------------------------------------------------------------------------\u001b[39m",
      "\u001b[31mKeyError\u001b[39m                                  Traceback (most recent call last)",
      "\u001b[36mFile \u001b[39m\u001b[32m~/anaconda3/envs/gvobs/lib/python3.11/site-packages/astropy/table/row.py:54\u001b[39m, in \u001b[36mRow.__getitem__\u001b[39m\u001b[34m(self, item)\u001b[39m\n\u001b[32m     50\u001b[39m \u001b[38;5;28;01mtry\u001b[39;00m:\n\u001b[32m     51\u001b[39m     \u001b[38;5;66;03m# Try the most common use case of accessing a single column in the Row.\u001b[39;00m\n\u001b[32m     52\u001b[39m     \u001b[38;5;66;03m# Bypass the TableColumns __getitem__ since that does more testing\u001b[39;00m\n\u001b[32m     53\u001b[39m     \u001b[38;5;66;03m# and allows a list of tuple or str, which is not the right thing here.\u001b[39;00m\n\u001b[32m---> \u001b[39m\u001b[32m54\u001b[39m     out = OrderedDict.\u001b[34m__getitem__\u001b[39m(\u001b[38;5;28mself\u001b[39m._table.columns, item)[\u001b[38;5;28mself\u001b[39m._index]\n\u001b[32m     55\u001b[39m \u001b[38;5;28;01mexcept\u001b[39;00m (\u001b[38;5;167;01mKeyError\u001b[39;00m, \u001b[38;5;167;01mTypeError\u001b[39;00m):\n",
      "\u001b[31mKeyError\u001b[39m: 'K'",
      "\nDuring handling of the above exception, another exception occurred:\n",
      "\u001b[31mKeyError\u001b[39m                                  Traceback (most recent call last)",
      "\u001b[36mCell\u001b[39m\u001b[36m \u001b[39m\u001b[32mIn[9]\u001b[39m\u001b[32m, line 4\u001b[39m\n\u001b[32m      2\u001b[39m \u001b[38;5;28;01mfor\u001b[39;00m obj_name \u001b[38;5;129;01min\u001b[39;00m target_names:\n\u001b[32m      3\u001b[39m     target = tb.loc[obj_name]\n\u001b[32m----> \u001b[39m\u001b[32m4\u001b[39m     dual_off_for_target(grav, target, folder_name=folder_name)\n",
      "\u001b[36mCell\u001b[39m\u001b[36m \u001b[39m\u001b[32mIn[6]\u001b[39m\u001b[32m, line 11\u001b[39m, in \u001b[36mdual_off_for_target\u001b[39m\u001b[34m(grav, target, folder_name, usename, verify)\u001b[39m\n\u001b[32m      9\u001b[39m         obname = \u001b[33mf\u001b[39m\u001b[33m\"\u001b[39m\u001b[38;5;132;01m{\u001b[39;00mao_mode\u001b[38;5;132;01m}\u001b[39;00m\u001b[33m_\u001b[39m\u001b[38;5;132;01m{\u001b[39;00mtarget[\u001b[33m'\u001b[39m\u001b[33mname\u001b[39m\u001b[33m'\u001b[39m]\u001b[38;5;132;01m}\u001b[39;00m\u001b[33m\"\u001b[39m.replace(\u001b[33m'\u001b[39m\u001b[33m \u001b[39m\u001b[33m'\u001b[39m, \u001b[33m'\u001b[39m\u001b[33m_\u001b[39m\u001b[33m'\u001b[39m)\n\u001b[32m     10\u001b[39m \u001b[38;5;28;01melse\u001b[39;00m:\n\u001b[32m---> \u001b[39m\u001b[32m11\u001b[39m         obname = \u001b[33mf\u001b[39m\u001b[33m\"\u001b[39m\u001b[38;5;132;01m{\u001b[39;00mao_mode\u001b[38;5;132;01m}\u001b[39;00m\u001b[33m_\u001b[39m\u001b[38;5;132;01m{\u001b[39;00mtel_alpha.split(\u001b[33m'\u001b[39m\u001b[33m.\u001b[39m\u001b[33m'\u001b[39m)[\u001b[32m0\u001b[39m].replace(\u001b[33m'\u001b[39m\u001b[33m:\u001b[39m\u001b[33m'\u001b[39m,\u001b[38;5;250m \u001b[39m\u001b[33m'\u001b[39m\u001b[33m'\u001b[39m)\u001b[38;5;132;01m}\u001b[39;00m\u001b[38;5;132;01m{\u001b[39;00mtel_delta.split(\u001b[33m'\u001b[39m\u001b[33m.\u001b[39m\u001b[33m'\u001b[39m)[\u001b[32m0\u001b[39m].replace(\u001b[33m'\u001b[39m\u001b[33m:\u001b[39m\u001b[33m'\u001b[39m,\u001b[38;5;250m \u001b[39m\u001b[33m'\u001b[39m\u001b[33m'\u001b[39m)\u001b[38;5;132;01m}\u001b[39;00m\u001b[33m_\u001b[39m\u001b[38;5;132;01m{\u001b[39;00mtarget[\u001b[33m'\u001b[39m\u001b[33mGrp\u001b[39m\u001b[33m'\u001b[39m]\u001b[38;5;132;01m:\u001b[39;00m\u001b[33m4.1f\u001b[39m\u001b[38;5;132;01m}\u001b[39;00m\u001b[33m_\u001b[39m\u001b[38;5;132;01m{\u001b[39;00mtarget[\u001b[33m'\u001b[39m\u001b[33mK\u001b[39m\u001b[33m'\u001b[39m]\u001b[38;5;132;01m:\u001b[39;00m\u001b[33m4.1f\u001b[39m\u001b[38;5;132;01m}\u001b[39;00m\u001b[33m\"\u001b[39m.replace(\u001b[33m'\u001b[39m\u001b[33m \u001b[39m\u001b[33m'\u001b[39m, \u001b[33m'\u001b[39m\u001b[33m_\u001b[39m\u001b[33m'\u001b[39m)\n\u001b[32m     14\u001b[39m ob, obV = grav.create_OB(obname, folder_name=folder_name, overwrite=\u001b[38;5;28;01mTrue\u001b[39;00m)\n\u001b[32m     15\u001b[39m obsDes = ob[\u001b[33m'\u001b[39m\u001b[33mobsDescription\u001b[39m\u001b[33m'\u001b[39m]\n",
      "\u001b[36mFile \u001b[39m\u001b[32m~/anaconda3/envs/gvobs/lib/python3.11/site-packages/astropy/table/row.py:64\u001b[39m, in \u001b[36mRow.__getitem__\u001b[39m\u001b[34m(self, item)\u001b[39m\n\u001b[32m     61\u001b[39m         out = \u001b[38;5;28mtuple\u001b[39m(\u001b[38;5;28mself\u001b[39m.values())[item]\n\u001b[32m     62\u001b[39m     \u001b[38;5;28;01melse\u001b[39;00m:\n\u001b[32m     63\u001b[39m         \u001b[38;5;66;03m# This is only to raise an exception\u001b[39;00m\n\u001b[32m---> \u001b[39m\u001b[32m64\u001b[39m         out = \u001b[38;5;28mself\u001b[39m._table.columns[item][\u001b[38;5;28mself\u001b[39m._index]\n\u001b[32m     65\u001b[39m \u001b[38;5;28;01mreturn\u001b[39;00m out\n",
      "\u001b[36mFile \u001b[39m\u001b[32m~/anaconda3/envs/gvobs/lib/python3.11/site-packages/astropy/table/table.py:264\u001b[39m, in \u001b[36mTableColumns.__getitem__\u001b[39m\u001b[34m(self, item)\u001b[39m\n\u001b[32m    253\u001b[39m \u001b[38;5;250m\u001b[39m\u001b[33;03m\"\"\"Get items from a TableColumns object.\u001b[39;00m\n\u001b[32m    254\u001b[39m \n\u001b[32m    255\u001b[39m \u001b[33;03m::\u001b[39;00m\n\u001b[32m   (...)\u001b[39m\u001b[32m    261\u001b[39m \u001b[33;03m  tc[1:3] # <TableColumns names=('b', 'c')>\u001b[39;00m\n\u001b[32m    262\u001b[39m \u001b[33;03m\"\"\"\u001b[39;00m\n\u001b[32m    263\u001b[39m \u001b[38;5;28;01mif\u001b[39;00m \u001b[38;5;28misinstance\u001b[39m(item, \u001b[38;5;28mstr\u001b[39m):\n\u001b[32m--> \u001b[39m\u001b[32m264\u001b[39m     \u001b[38;5;28;01mreturn\u001b[39;00m OrderedDict.\u001b[34m__getitem__\u001b[39m(\u001b[38;5;28mself\u001b[39m, item)\n\u001b[32m    265\u001b[39m \u001b[38;5;28;01melif\u001b[39;00m \u001b[38;5;28misinstance\u001b[39m(item, (\u001b[38;5;28mint\u001b[39m, np.integer)):\n\u001b[32m    266\u001b[39m     \u001b[38;5;28;01mreturn\u001b[39;00m \u001b[38;5;28mlist\u001b[39m(\u001b[38;5;28mself\u001b[39m.values())[item]\n",
      "\u001b[31mKeyError\u001b[39m: 'K'"
     ]
    }
   ],
   "source": [
    "target_names = [\"Gaia DR3 2341844906852746368\", \"Gaia DR3 2339430821699529728\"]\n",
    "for obj_name in target_names:\n",
    "    target = tb.loc[obj_name]\n",
    "    dual_off_for_target(grav, target, folder_name=folder_name)"
   ]
  },
  {
   "cell_type": "markdown",
   "id": "bdcd5422",
   "metadata": {},
   "source": []
  },
  {
   "cell_type": "code",
   "execution_count": null,
   "id": "9ec575c3",
   "metadata": {},
   "outputs": [],
   "source": []
  }
 ],
 "metadata": {
  "kernelspec": {
   "display_name": "gvobs",
   "language": "python",
   "name": "python3"
  },
  "language_info": {
   "codemirror_mode": {
    "name": "ipython",
    "version": 3
   },
   "file_extension": ".py",
   "mimetype": "text/x-python",
   "name": "python",
   "nbconvert_exporter": "python",
   "pygments_lexer": "ipython3",
   "version": "3.11.13"
  }
 },
 "nbformat": 4,
 "nbformat_minor": 5
}
