{
 "cells": [
  {
   "cell_type": "code",
   "execution_count": 1,
   "id": "f7cf7f22",
   "metadata": {},
   "outputs": [],
   "source": [
    "%load_ext autoreload\n",
    "%autoreload 2\n",
    "%matplotlib inline"
   ]
  },
  {
   "cell_type": "code",
   "execution_count": 2,
   "id": "3d3ef4c2",
   "metadata": {},
   "outputs": [],
   "source": [
    "from astropy.table import Table\n",
    "import gravity_obs.p2_tools as p2t"
   ]
  },
  {
   "cell_type": "code",
   "execution_count": 3,
   "id": "31296f1f",
   "metadata": {},
   "outputs": [],
   "source": [
    "table_path = '../../gvprep/tabs/star_k9-12mag_grp10-12mag_gaia_wide_pairs.ipac'\n",
    "tb = Table.read(table_path, format='ascii.ipac')"
   ]
  },
  {
   "cell_type": "code",
   "execution_count": 4,
   "id": "331ddb1a",
   "metadata": {},
   "outputs": [
    {
     "data": {
      "text/html": [
       "<div><i>Table length=8046</i>\n",
       "<table id=\"table5938875088\" class=\"table-striped table-bordered table-condensed\">\n",
       "<thead><tr><th>name</th><th>ra_2000_hms</th><th>dec_2000_dms</th><th>ra_2000</th><th>dec_2000</th><th>parallax</th><th>pm</th><th>pmra</th><th>pmdec</th><th>radial_velocity</th><th>Grp</th><th>G</th><th>ra_2016</th><th>dec_2016</th><th>source_id</th><th>H</th><th>K</th><th>name_ft</th><th>ra_2000_hms_ft</th><th>dec_2000_dms_ft</th><th>ra_2000_ft</th><th>dec_2000_ft</th><th>H_ft</th><th>K_ft</th><th>parallax_ft</th><th>pm_ft</th><th>pmra_ft</th><th>pmdec_ft</th><th>radial_velocity_ft</th><th>Grp_ft</th><th>G_ft</th><th>ra_2016_ft</th><th>dec_2016_ft</th><th>source_id_ft</th><th>sobj_x</th><th>sobj_y</th><th>sep</th><th>pa</th></tr></thead>\n",
       "<thead><tr><th></th><th></th><th></th><th></th><th></th><th>mas</th><th>mas / yr</th><th>mas / yr</th><th>mas / yr</th><th>km / s</th><th>mag</th><th>mag</th><th>deg</th><th>deg</th><th></th><th>mag</th><th>mag</th><th></th><th></th><th></th><th></th><th></th><th>mag</th><th>mag</th><th>mas</th><th>mas / yr</th><th>mas / yr</th><th>mas / yr</th><th>km / s</th><th>mag</th><th>mag</th><th>deg</th><th>deg</th><th></th><th>mas</th><th>mas</th><th>arcsec</th><th>deg</th></tr></thead>\n",
       "<thead><tr><th>str28</th><th>str12</th><th>str13</th><th>float64</th><th>float64</th><th>float64</th><th>float64</th><th>float64</th><th>float64</th><th>float64</th><th>float64</th><th>float64</th><th>float64</th><th>float64</th><th>int64</th><th>float64</th><th>float64</th><th>str28</th><th>str12</th><th>str13</th><th>float64</th><th>float64</th><th>float64</th><th>float64</th><th>float64</th><th>float64</th><th>float64</th><th>float64</th><th>float64</th><th>float64</th><th>float64</th><th>float64</th><th>float64</th><th>int64</th><th>float64</th><th>float64</th><th>float64</th><th>float64</th></tr></thead>\n",
       "<tr><td>Gaia DR3 2307957683607394944</td><td>00:00:07.774</td><td>-36:59:26.190</td><td>0.03238982385615093</td><td>-36.99060822111795</td><td>1.1767</td><td>27.479</td><td>5.026</td><td>-27.015</td><td>82.27</td><td>13.842175</td><td>14.34074</td><td>0.03241779066</td><td>-36.99072828913</td><td>2307957683607394944</td><td>12.957</td><td>12.94</td><td>Gaia DR3 2307957649246804480</td><td>00:00:06.930</td><td>-36:59:38.769</td><td>0.028875122687</td><td>-36.99410249</td><td>10.704000473</td><td>10.645000458</td><td>2.9988</td><td>17.12</td><td>17.046</td><td>1.591</td><td>8.1</td><td>11.463291</td><td>11.925517</td><td>0.02896997595</td><td>-36.994095421</td><td>2307957649246804480</td><td>9796.040053146273</td><td>11840.861285766401</td><td>15.367771364502</td><td>39.60122864468628</td></tr>\n",
       "<tr><td>Gaia DR3 2421121924304078976</td><td>00:00:16.920</td><td>-12:55:08.765</td><td>0.07050151402408138</td><td>-12.919101440137313</td><td>2.2326</td><td>27.13</td><td>26.933</td><td>3.265</td><td>-11.96</td><td>11.703443</td><td>12.195138</td><td>0.07062432363</td><td>-12.91908693094</td><td>2421121924304078976</td><td>10.876</td><td>10.803</td><td>Gaia DR3 2421121928599635200</td><td>00:00:16.694</td><td>-12:55:13.214</td><td>0.069558668476</td><td>-12.920337332</td><td>10.19299984</td><td>10.151000023</td><td>2.2798</td><td>27.605</td><td>27.416</td><td>3.223</td><td>--</td><td>10.90099</td><td>11.327644</td><td>0.06968368445</td><td>-12.920323009</td><td>2421121928599635200</td><td>3295.84322528464</td><td>4450.28702271995</td><td>5.537836865622196</td><td>36.52332103687524</td></tr>\n",
       "<tr><td>Gaia DR3 2421111070922287104</td><td>00:00:22.839</td><td>-13:03:32.861</td><td>0.09516438288292063</td><td>-13.059128157632033</td><td>3.979</td><td>16.213</td><td>15.78</td><td>3.72</td><td>--</td><td>14.776588</td><td>15.835312</td><td>0.09523637877</td><td>-13.05911162454</td><td>2421111070922287104</td><td>12.78</td><td>12.562</td><td>Gaia DR3 2421111070920983936</td><td>00:00:21.500</td><td>-13:03:19.478</td><td>0.08958214975</td><td>-13.05541053</td><td>10.18500042</td><td>10.072999954</td><td>3.9805</td><td>16.535</td><td>16.534</td><td>0.174</td><td>-10.75</td><td>11.216269</td><td>11.779585</td><td>0.08965758473</td><td>-13.055409758</td><td>2421111070920983936</td><td>19556.850313346084</td><td>-13292.14661883927</td><td>23.646385683976</td><td>124.20265508900314</td></tr>\n",
       "<tr><td>Gaia DR3 2306294775349638016</td><td>00:00:30.857</td><td>-39:37:55.848</td><td>0.1285726731366147</td><td>-39.63218009989112</td><td>2.0678</td><td>13.998</td><td>10.162</td><td>-9.626</td><td>-34.27</td><td>12.219716</td><td>12.713209</td><td>0.12863131809</td><td>-39.63222288327</td><td>2306294775349638016</td><td>11.343</td><td>11.237</td><td>Gaia DR3 2306294844069169152</td><td>00:00:30.020</td><td>-39:37:29.142</td><td>0.12508212083</td><td>-39.624761691</td><td>10.102000237</td><td>10.083000183</td><td>1.6175</td><td>6.533</td><td>0.233</td><td>-6.529</td><td>--</td><td>10.663338</td><td>10.898009</td><td>0.1250834656</td><td>-39.62479071</td><td>2306294844069169152</td><td>9934.026971088353</td><td>-26786.404962517583</td><td>28.56915089179757</td><td>159.65215827455262</td></tr>\n",
       "<tr><td>Gaia DR3 2313537739478102272</td><td>00:00:33.155</td><td>-32:45:10.266</td><td>0.13814580434338805</td><td>-32.75285178320055</td><td>6.7574</td><td>38.6</td><td>38.578</td><td>1.315</td><td>--</td><td>14.971152</td><td>16.133118</td><td>0.13834967432</td><td>-32.75284593942</td><td>2313537739478102272</td><td>12.822</td><td>12.577</td><td>Gaia DR3 2313537739478102144</td><td>00:00:34.229</td><td>-32:44:49.699</td><td>0.14261896387</td><td>-32.747138685</td><td>10.201000214</td><td>10.031999588</td><td>6.3807</td><td>39.37</td><td>39.29</td><td>2.518</td><td>2.47</td><td>11.864354</td><td>12.706331</td><td>0.14282658239</td><td>-32.747127497</td><td>2313537739478102144</td><td>-13561.443352500093</td><td>-20598.481477314373</td><td>24.66191770674642</td><td>213.35974895543876</td></tr>\n",
       "<tr><td>Gaia DR3 2421159861750790912</td><td>00:00:41.743</td><td>-12:46:05.577</td><td>0.17392725467051767</td><td>-12.768215741491314</td><td>2.4376</td><td>5.042</td><td>-0.012</td><td>5.042</td><td>--</td><td>14.638123</td><td>15.733018</td><td>0.17392720206</td><td>-12.76819333432</td><td>2421159861750790912</td><td>12.508</td><td>12.216</td><td>Gaia DR3 2421159861750791168</td><td>00:00:40.673</td><td>-12:46:16.976</td><td>0.16947134235</td><td>-12.771382222</td><td>10.666999817</td><td>10.574999809</td><td>3.2877</td><td>25.196</td><td>21.829</td><td>-12.583</td><td>14.15</td><td>11.448132</td><td>11.924252</td><td>0.16957082173</td><td>-12.771438148</td><td>2421159861750791168</td><td>15080.891331573466</td><td>11854.11381473115</td><td>19.18210879145793</td><td>51.831400954742605</td></tr>\n",
       "<tr><td>Gaia DR3 2420737821084438400</td><td>00:00:47.728</td><td>-13:57:47.147</td><td>0.19886624215817017</td><td>-13.963096382051058</td><td>2.9591</td><td>20.171</td><td>19.919</td><td>3.178</td><td>-6.88</td><td>13.112193</td><td>13.765867</td><td>0.1989574685</td><td>-13.96308225563</td><td>2420737821084438400</td><td>11.885</td><td>11.743</td><td>Gaia DR3 2420737816788215680</td><td>00:00:47.870</td><td>-13:58:10.258</td><td>0.19945858198</td><td>-13.969516077</td><td>10.274999619</td><td>10.156999588</td><td>1.1064</td><td>7.652</td><td>6.211</td><td>-4.469</td><td>-43.43</td><td>11.53491</td><td>12.17543</td><td>0.19948702827</td><td>-13.969535939</td><td>2420737816788215680</td><td>-1715.6030776437944</td><td>23308.279100383043</td><td>23.371332194408044</td><td>355.7903422839357</td></tr>\n",
       "<tr><td>Gaia DR3 2306382152164376832</td><td>00:00:57.064</td><td>-39:06:20.141</td><td>0.23776791012151738</td><td>-39.10559478130729</td><td>1.639</td><td>13.088</td><td>3.756</td><td>-12.537</td><td>26.45</td><td>13.098419</td><td>13.550121</td><td>0.23778942196</td><td>-39.1056505013</td><td>2306382152164376832</td><td>12.302</td><td>12.248</td><td>Gaia DR3 2306382147868737024</td><td>00:00:57.817</td><td>-39:06:42.733</td><td>0.24090209192</td><td>-39.111870328</td><td>11.032999992</td><td>10.99600029</td><td>2.8693</td><td>55.551</td><td>41.344</td><td>-37.102</td><td>25.15</td><td>11.987118</td><td>12.502622</td><td>0.24113891193</td><td>-39.112035225</td><td>2306382147868737024</td><td>-9725.73316729911</td><td>23225.812686277393</td><td>25.179917803272232</td><td>337.2786611402791</td></tr>\n",
       "<tr><td>Gaia DR3 2307993967491185280</td><td>00:01:00.455</td><td>-36:39:32.549</td><td>0.2518976080315839</td><td>-36.65904144409833</td><td>2.9163</td><td>23.439</td><td>-12.92</td><td>-19.557</td><td>19.79</td><td>12.058623</td><td>12.557637</td><td>0.25182602822</td><td>-36.65912836386</td><td>2307993967491185280</td><td>11.175</td><td>11.104</td><td>Gaia DR3 2307993757037112320</td><td>00:01:01.829</td><td>-36:39:46.246</td><td>0.25762219672</td><td>-36.662846014</td><td>10.581999779</td><td>10.517999649</td><td>2.936</td><td>23.379</td><td>-13.201</td><td>-19.295</td><td>20.28</td><td>11.62263</td><td>12.188298</td><td>0.25754905425</td><td>-36.662931769</td><td>2307993757037112320</td><td>-16524.90287035847</td><td>13689.19546090158</td><td>21.458482873715703</td><td>309.638280528905</td></tr>\n",
       "<tr><td>...</td><td>...</td><td>...</td><td>...</td><td>...</td><td>...</td><td>...</td><td>...</td><td>...</td><td>...</td><td>...</td><td>...</td><td>...</td><td>...</td><td>...</td><td>...</td><td>...</td><td>...</td><td>...</td><td>...</td><td>...</td><td>...</td><td>...</td><td>...</td><td>...</td><td>...</td><td>...</td><td>...</td><td>...</td><td>...</td><td>...</td><td>...</td><td>...</td><td>...</td><td>...</td><td>...</td><td>...</td><td>...</td></tr>\n",
       "<tr><td>Gaia DR3 2332990436635779712</td><td>23:59:37.011</td><td>-28:59:41.974</td><td>359.9042138156427</td><td>-28.994992769131652</td><td>0.7982</td><td>15.167</td><td>14.946</td><td>-2.578</td><td>-22.02</td><td>13.663168</td><td>14.192357</td><td>359.90428976285</td><td>-28.99500422878</td><td>2332990436635779712</td><td>12.698</td><td>12.612</td><td>Gaia DR3 2332990436635779840</td><td>23:59:36.184</td><td>-28:59:54.061</td><td>359.9007654</td><td>-28.998350398</td><td>9.6350002289</td><td>9.4849996567</td><td>2.5438</td><td>19.304</td><td>18.296</td><td>-6.156</td><td>34.17</td><td>10.789299</td><td>11.416037</td><td>359.90085837</td><td>-28.998377758</td><td>2332990436635779840</td><td>10771.840348812757</td><td>12179.651106391273</td><td>16.259656994344276</td><td>41.48995875316199</td></tr>\n",
       "<tr><td>Gaia DR3 2314399378636633728</td><td>23:59:40.339</td><td>-31:50:28.097</td><td>359.9180803999364</td><td>-31.84113814129421</td><td>0.8885</td><td>1.911</td><td>-1.891</td><td>0.273</td><td>-9.45</td><td>12.463418</td><td>12.86406</td><td>359.91807050688</td><td>-31.84113692761</td><td>2314399378636633728</td><td>11.775</td><td>11.738</td><td>Gaia DR3 2314399378637304064</td><td>23:59:39.870</td><td>-31:50:29.869</td><td>359.91612632</td><td>-31.841630301</td><td>9.609000206</td><td>9.5369997025</td><td>3.13</td><td>19.178</td><td>-12.644</td><td>-14.42</td><td>-1.78</td><td>10.433057</td><td>10.924876</td><td>359.91606017</td><td>-31.841694388</td><td>2314399378637304064</td><td>6253.607414457765</td><td>2150.943810777615</td><td>6.6131811536720875</td><td>71.01921731242032</td></tr>\n",
       "<tr><td>Gaia DR3 2308091308630004992</td><td>23:59:42.277</td><td>-35:52:09.613</td><td>359.92615265189755</td><td>-35.86933697192459</td><td>2.1594</td><td>18.281</td><td>14.171</td><td>-11.549</td><td>--</td><td>14.702679</td><td>15.615224</td><td>359.92623037299</td><td>-35.86938830081</td><td>2308091308630004992</td><td>12.915</td><td>12.76</td><td>Gaia DR3 2308091308630004864</td><td>23:59:42.671</td><td>-35:51:45.626</td><td>359.92779396</td><td>-35.862673869</td><td>9.8369998932</td><td>9.7399997711</td><td>1.392</td><td>14.175</td><td>-12.316</td><td>-7.017</td><td>1.35</td><td>11.059756</td><td>11.682287</td><td>359.92772642</td><td>-35.862705057</td><td>2308091308630004864</td><td>-4104.542460987761</td><td>-24104.168303256665</td><td>24.45113900017287</td><td>189.66383241631127</td></tr>\n",
       "<tr><td>Gaia DR3 2314790972280620288</td><td>23:59:44.279</td><td>-30:44:53.483</td><td>359.93449441524456</td><td>-30.748189723109153</td><td>4.512</td><td>68.826</td><td>-19.715</td><td>-65.942</td><td>37.39</td><td>14.345667</td><td>15.422153</td><td>359.93439245934</td><td>-30.74848279831</td><td>2314790972280620288</td><td>12.33</td><td>12.164</td><td>Gaia DR3 2314790976575502720</td><td>23:59:44.558</td><td>-30:44:50.364</td><td>359.93566039</td><td>-30.747323329</td><td>9.3409996033</td><td>9.2410001755</td><td>4.4527</td><td>67.856</td><td>-19.163</td><td>-65.094</td><td>30.15</td><td>10.097528</td><td>10.56367</td><td>359.93556129</td><td>-30.747612634</td><td>2314790976575502720</td><td>-3621.6692589987842</td><td>-3140.9294750539384</td><td>4.793946827911154</td><td>229.0662034497475</td></tr>\n",
       "<tr><td>Gaia DR3 2416060429900094464</td><td>23:59:46.569</td><td>-15:26:55.171</td><td>359.94403723802685</td><td>-15.44865853769242</td><td>0.4472</td><td>11.306</td><td>6.671</td><td>-9.128</td><td>-72.07</td><td>12.869942</td><td>13.490264</td><td>359.94406799758</td><td>-15.44869910629</td><td>2416060429900094464</td><td>11.613</td><td>11.568</td><td>Gaia DR3 2416060429900094080</td><td>23:59:46.841</td><td>-15:26:32.978</td><td>359.94517223</td><td>-15.442493977</td><td>9.8669996262</td><td>9.8350000381</td><td>4.6867</td><td>38.568</td><td>-26.221</td><td>-28.283</td><td>19.51</td><td>10.604304</td><td>11.051769</td><td>359.94505133</td><td>-15.44261968</td><td>2416060429900094080</td><td>-3089.4154856919513</td><td>-21698.02173197631</td><td>21.916857327740892</td><td>188.10344144661198</td></tr>\n",
       "<tr><td>Gaia DR3 2341449391905373312</td><td>23:59:51.841</td><td>-20:46:44.128</td><td>359.9660023610808</td><td>-20.778924359233745</td><td>0.5635</td><td>5.116</td><td>-2.906</td><td>-4.21</td><td>9.57</td><td>13.866983</td><td>14.528666</td><td>359.96598854826</td><td>-20.7789430716</td><td>2341449391905373312</td><td>12.629</td><td>12.531</td><td>Gaia DR3 2341637060500216832</td><td>23:59:51.239</td><td>-20:46:18.765</td><td>359.96349776</td><td>-20.771879238</td><td>10.722000122</td><td>10.690999985</td><td>3.8656</td><td>19.255</td><td>17.823</td><td>-7.288</td><td>10.94</td><td>11.576995</td><td>12.081421</td><td>359.96358248</td><td>-20.77191163</td><td>2341637060500216832</td><td>7895.091973139743</td><td>-25283.050497449112</td><td>26.487074578384405</td><td>162.6580771633226</td></tr>\n",
       "<tr><td>Gaia DR3 2422804387548341888</td><td>23:59:53.508</td><td>-10:33:12.075</td><td>359.9729492310638</td><td>-10.553354222459848</td><td>1.7279</td><td>23.074</td><td>-20.09</td><td>-11.349</td><td>--</td><td>14.474831</td><td>15.192787</td><td>359.97285840383</td><td>-10.55340466364</td><td>2422804387548341888</td><td>13.059</td><td>12.984</td><td>Gaia DR3 2422804078310696320</td><td>23:59:51.759</td><td>-10:33:02.926</td><td>359.96566292</td><td>-10.550812869</td><td>9.7150001526</td><td>9.579000473</td><td>5.1449</td><td>8.88</td><td>8.46</td><td>-2.698</td><td>--</td><td>10.600896</td><td>11.864249</td><td>359.96570117</td><td>-10.550824861</td><td>2422804078310696320</td><td>25050.108556549956</td><td>-9372.443244979906</td><td>26.74603954000119</td><td>110.5132260705854</td></tr>\n",
       "<tr><td>Gaia DR3 2422804387548341888</td><td>23:59:53.508</td><td>-10:33:12.075</td><td>359.9729492310638</td><td>-10.553354222459848</td><td>1.7279</td><td>23.074</td><td>-20.09</td><td>-11.349</td><td>--</td><td>14.474831</td><td>15.192787</td><td>359.97285840383</td><td>-10.55340466364</td><td>2422804387548341888</td><td>13.059</td><td>12.984</td><td>Gaia DR3 2422804078309525504</td><td>23:59:51.794</td><td>-10:33:03.354</td><td>359.96581034</td><td>-10.5509318</td><td>9.7150001526</td><td>9.579000473</td><td>4.9727</td><td>8.949</td><td>8.298</td><td>-3.351</td><td>3.64</td><td>10.601219</td><td>11.874869</td><td>359.96584785</td><td>-10.550946695</td><td>2422804078309525504</td><td>24532.582005635773</td><td>-8927.423026743993</td><td>26.106444831912352</td><td>109.99648042133977</td></tr>\n",
       "<tr><td>Gaia DR3 2332899314609663872</td><td>23:59:57.047</td><td>-29:22:59.108</td><td>359.9876955323965</td><td>-29.383085668530686</td><td>1.319</td><td>11.475</td><td>8.263</td><td>7.962</td><td>22.21</td><td>13.469992</td><td>13.963336</td><td>359.98773767779</td><td>-29.3830502821</td><td>2332899314609663872</td><td>12.615</td><td>12.608</td><td>Gaia DR3 2332898932357208832</td><td>23:59:56.694</td><td>-29:23:20.095</td><td>359.9862249</td><td>-29.388915367</td><td>10.557999611</td><td>10.519000053</td><td>3.1897</td><td>28.422</td><td>-26.122</td><td>-11.2</td><td>31.83</td><td>11.496245</td><td>12.106674</td><td>359.98609165</td><td>-29.388965144</td><td>2332898932357208832</td><td>5500.761047145071</td><td>21481.44962100216</td><td>22.17455861832299</td><td>14.363116132355907</td></tr>\n",
       "</table></div>"
      ],
      "text/plain": [
       "<Table length=8046>\n",
       "            name             ra_2000_hms  ...         pa        \n",
       "                                          ...        deg        \n",
       "           str28                str12     ...      float64      \n",
       "---------------------------- ------------ ... ------------------\n",
       "Gaia DR3 2307957683607394944 00:00:07.774 ...  39.60122864468628\n",
       "Gaia DR3 2421121924304078976 00:00:16.920 ...  36.52332103687524\n",
       "Gaia DR3 2421111070922287104 00:00:22.839 ... 124.20265508900314\n",
       "Gaia DR3 2306294775349638016 00:00:30.857 ... 159.65215827455262\n",
       "Gaia DR3 2313537739478102272 00:00:33.155 ... 213.35974895543876\n",
       "Gaia DR3 2421159861750790912 00:00:41.743 ... 51.831400954742605\n",
       "Gaia DR3 2420737821084438400 00:00:47.728 ...  355.7903422839357\n",
       "Gaia DR3 2306382152164376832 00:00:57.064 ...  337.2786611402791\n",
       "Gaia DR3 2307993967491185280 00:01:00.455 ...   309.638280528905\n",
       "                         ...          ... ...                ...\n",
       "Gaia DR3 2332990436635779712 23:59:37.011 ...  41.48995875316199\n",
       "Gaia DR3 2314399378636633728 23:59:40.339 ...  71.01921731242032\n",
       "Gaia DR3 2308091308630004992 23:59:42.277 ... 189.66383241631127\n",
       "Gaia DR3 2314790972280620288 23:59:44.279 ...  229.0662034497475\n",
       "Gaia DR3 2416060429900094464 23:59:46.569 ... 188.10344144661198\n",
       "Gaia DR3 2341449391905373312 23:59:51.841 ...  162.6580771633226\n",
       "Gaia DR3 2422804387548341888 23:59:53.508 ...  110.5132260705854\n",
       "Gaia DR3 2422804387548341888 23:59:53.508 ... 109.99648042133977\n",
       "Gaia DR3 2332899314609663872 23:59:57.047 ... 14.363116132355907"
      ]
     },
     "execution_count": 4,
     "metadata": {},
     "output_type": "execute_result"
    }
   ],
   "source": [
    "tb"
   ]
  },
  {
   "cell_type": "code",
   "execution_count": 5,
   "id": "19c02407",
   "metadata": {},
   "outputs": [],
   "source": [
    "tb.add_index('name')"
   ]
  },
  {
   "cell_type": "code",
   "execution_count": 29,
   "id": "50ef9f04",
   "metadata": {},
   "outputs": [],
   "source": [
    "from gravity_obs import ob_add_target\n",
    "def dual_wide_for_target(grav, target, folder_name=None,\n",
    "                         usename=False, verify=False):\n",
    "    ao_mode = \"LGS_VIS\"\n",
    "    tel_alpha = target['ra_2000_hms']\n",
    "    tel_delta = target['dec_2000_dms']\n",
    "\n",
    "    if usename:\n",
    "        obname = f\"{ao_mode}_{target['name']}\".replace(' ', '_')\n",
    "    else:\n",
    "        obname = f\"{ao_mode}_{tel_alpha.split('.')[0].replace(':', '')}{tel_delta.split('.')[0].replace(':', '')}_{target['Grp_ft']:4.1f}_{target['K_ft']:4.1f}_{target['K']:4.1f}\".replace(' ', '_')\n",
    "\n",
    "\n",
    "    ob, obV = grav.create_OB(obname, folder_name=folder_name, overwrite=True)\n",
    "    obsDes = ob['obsDescription']\n",
    "    obsDes['name'] = target['name']\n",
    "    obsDes['userComments'] = 'Dual on-axis observation test'\n",
    "\n",
    "    ob_add_target(ob, target['name'], \n",
    "                    ra = target['ra_2000_hms'], \n",
    "                    dec = target['dec_2000_dms'],\n",
    "                    pma = target['pmra'],\n",
    "                    pmd = target['pmdec'])\n",
    "    ob, obV = grav.save_OB(obname, folder_name=folder_name)\n",
    "\n",
    "\n",
    "    dit, ndit = 3, 40\n",
    "    grav.add_GRAVITY_dual_wide_acq(name=obname, folder_name=folder_name,\n",
    "                                   met_mode = 'OFF',\n",
    "                                   sc_name = target['name'],\n",
    "                                   sc_kmag = target['K'],\n",
    "                                   sc_hmag = target['H'],\n",
    "                                   sc_plx = target['parallax']/1e3,\n",
    "                                   ft_name = target['name_ft'],\n",
    "                                   ft_alpha = target['ra_2000_hms_ft'],\n",
    "                                   ft_delta = target['dec_2000_dms_ft'],\n",
    "                                   ft_kmag = target['K_ft'],\n",
    "                                   ft_hmag = target['H_ft'],\n",
    "                                   ft_plx = target['parallax_ft']/1e3,\n",
    "                                   ngs_mag = target['Grp_ft'],\n",
    "                                   ao_mode = ao_mode,\n",
    "                                   baseline = ['UTs'])\n",
    "    grav.add_GRAVITY_dual_obs_exp(obname, folder_name=folder_name,\n",
    "                                    dit=dit, ndit_obj=ndit, ndit_sky=ndit,\n",
    "                                    sky_x=8000, sky_y=8000)\n",
    "\n",
    "    # optional verification\n",
    "    if verify:\n",
    "        obID = ob['obId']\n",
    "        response, _ = grav.api.verifyOB(obID,True)\n",
    "        if response['observable']:\n",
    "            print('*** Congratulations. Your OB' , obID, ob['name'], 'is observable!')\n",
    "        else:\n",
    "            print('OB', obID, 'is >>not observable<<. See messages below.')\n",
    "            print(' ', '\\n  '.join(response['messages']))"
   ]
  },
  {
   "cell_type": "code",
   "execution_count": 30,
   "id": "aaa73485",
   "metadata": {},
   "outputs": [],
   "source": [
    "grav = p2t.p2api_GRAVITY('116.29H7.001', 'GPLUSTeam', 'GPAOwFRINGES', no_warning=True)\n",
    "root_folder = 'TTR-116.0046 October First Light'\n",
    "grav.set_rootFolder(root_folder)"
   ]
  },
  {
   "cell_type": "code",
   "execution_count": 31,
   "id": "25f031f9",
   "metadata": {},
   "outputs": [],
   "source": [
    "folder_name = 'dual_wide'\n",
    "try:\n",
    "    grav.get_folder(folder_name)\n",
    "except Exception:\n",
    "    grav.create_folder(folder_name, overwrite=True)"
   ]
  },
  {
   "cell_type": "code",
   "execution_count": 33,
   "id": "594a2ec8",
   "metadata": {},
   "outputs": [],
   "source": [
    "#target_names = [\"Gaia DR3 2314790972280620288\"]\n",
    "target_names = [\"Gaia DR3 2307993967491185280\"]\n",
    "for obj_name in target_names:\n",
    "    target = tb.loc[obj_name]\n",
    "    dual_wide_for_target(grav, target, folder_name=folder_name)"
   ]
  },
  {
   "cell_type": "markdown",
   "id": "bdcd5422",
   "metadata": {},
   "source": []
  },
  {
   "cell_type": "code",
   "execution_count": 34,
   "id": "9ec575c3",
   "metadata": {},
   "outputs": [
    {
     "data": {
      "text/html": [
       "<i>Row index=8</i>\n",
       "<table id=\"table5938875088\">\n",
       "<thead><tr><th>name</th><th>ra_2000_hms</th><th>dec_2000_dms</th><th>ra_2000</th><th>dec_2000</th><th>parallax</th><th>pm</th><th>pmra</th><th>pmdec</th><th>radial_velocity</th><th>Grp</th><th>G</th><th>ra_2016</th><th>dec_2016</th><th>source_id</th><th>H</th><th>K</th><th>name_ft</th><th>ra_2000_hms_ft</th><th>dec_2000_dms_ft</th><th>ra_2000_ft</th><th>dec_2000_ft</th><th>H_ft</th><th>K_ft</th><th>parallax_ft</th><th>pm_ft</th><th>pmra_ft</th><th>pmdec_ft</th><th>radial_velocity_ft</th><th>Grp_ft</th><th>G_ft</th><th>ra_2016_ft</th><th>dec_2016_ft</th><th>source_id_ft</th><th>sobj_x</th><th>sobj_y</th><th>sep</th><th>pa</th></tr></thead>\n",
       "<thead><tr><th></th><th></th><th></th><th></th><th></th><th>mas</th><th>mas / yr</th><th>mas / yr</th><th>mas / yr</th><th>km / s</th><th>mag</th><th>mag</th><th>deg</th><th>deg</th><th></th><th>mag</th><th>mag</th><th></th><th></th><th></th><th></th><th></th><th>mag</th><th>mag</th><th>mas</th><th>mas / yr</th><th>mas / yr</th><th>mas / yr</th><th>km / s</th><th>mag</th><th>mag</th><th>deg</th><th>deg</th><th></th><th>mas</th><th>mas</th><th>arcsec</th><th>deg</th></tr></thead>\n",
       "<thead><tr><th>str28</th><th>str12</th><th>str13</th><th>float64</th><th>float64</th><th>float64</th><th>float64</th><th>float64</th><th>float64</th><th>float64</th><th>float64</th><th>float64</th><th>float64</th><th>float64</th><th>int64</th><th>float64</th><th>float64</th><th>str28</th><th>str12</th><th>str13</th><th>float64</th><th>float64</th><th>float64</th><th>float64</th><th>float64</th><th>float64</th><th>float64</th><th>float64</th><th>float64</th><th>float64</th><th>float64</th><th>float64</th><th>float64</th><th>int64</th><th>float64</th><th>float64</th><th>float64</th><th>float64</th></tr></thead>\n",
       "<tr><td>Gaia DR3 2307993967491185280</td><td>00:01:00.455</td><td>-36:39:32.549</td><td>0.2518976080315839</td><td>-36.65904144409833</td><td>2.9163</td><td>23.439</td><td>-12.92</td><td>-19.557</td><td>19.79</td><td>12.058623</td><td>12.557637</td><td>0.25182602822</td><td>-36.65912836386</td><td>2307993967491185280</td><td>11.175</td><td>11.104</td><td>Gaia DR3 2307993757037112320</td><td>00:01:01.829</td><td>-36:39:46.246</td><td>0.25762219672</td><td>-36.662846014</td><td>10.581999779</td><td>10.517999649</td><td>2.936</td><td>23.379</td><td>-13.201</td><td>-19.295</td><td>20.28</td><td>11.62263</td><td>12.188298</td><td>0.25754905425</td><td>-36.662931769</td><td>2307993757037112320</td><td>-16524.90287035847</td><td>13689.19546090158</td><td>21.458482873715703</td><td>309.638280528905</td></tr>\n",
       "</table>"
      ],
      "text/plain": [
       "<Row index=8>\n",
       "            name             ra_2000_hms   dec_2000_dms      ra_2000            dec_2000      parallax    pm      pmra    pmdec   radial_velocity    Grp        G        ra_2016        dec_2016         source_id         H       K              name_ft            ra_2000_hms_ft dec_2000_dms_ft   ra_2000_ft   dec_2000_ft      H_ft         K_ft     parallax_ft  pm_ft   pmra_ft  pmdec_ft radial_velocity_ft  Grp_ft     G_ft     ra_2016_ft   dec_2016_ft      source_id_ft          sobj_x             sobj_y             sep                pa       \n",
       "                                                                                                mas    mas / yr mas / yr mas / yr      km / s        mag       mag         deg            deg                             mag     mag                                                                                               mag          mag          mas     mas / yr mas / yr mas / yr       km / s         mag       mag         deg           deg                                 mas                mas              arcsec             deg       \n",
       "           str28                str12         str13          float64            float64       float64  float64  float64  float64      float64      float64   float64     float64        float64            int64        float64 float64            str28                 str12           str13         float64       float64      float64      float64      float64   float64  float64  float64       float64       float64   float64     float64       float64           int64             float64            float64           float64           float64     \n",
       "---------------------------- ------------ ------------- ------------------ ------------------ -------- -------- -------- -------- --------------- --------- --------- ------------- --------------- ------------------- ------- ------- ---------------------------- -------------- --------------- ------------- ------------- ------------ ------------ ----------- -------- -------- -------- ------------------ -------- --------- ------------- ------------- ------------------- ------------------ ----------------- ------------------ ----------------\n",
       "Gaia DR3 2307993967491185280 00:01:00.455 -36:39:32.549 0.2518976080315839 -36.65904144409833   2.9163   23.439   -12.92  -19.557           19.79 12.058623 12.557637 0.25182602822 -36.65912836386 2307993967491185280  11.175  11.104 Gaia DR3 2307993757037112320   00:01:01.829   -36:39:46.246 0.25762219672 -36.662846014 10.581999779 10.517999649       2.936   23.379  -13.201  -19.295              20.28 11.62263 12.188298 0.25754905425 -36.662931769 2307993757037112320 -16524.90287035847 13689.19546090158 21.458482873715703 309.638280528905"
      ]
     },
     "execution_count": 34,
     "metadata": {},
     "output_type": "execute_result"
    }
   ],
   "source": [
    "target"
   ]
  },
  {
   "cell_type": "code",
   "execution_count": null,
   "id": "b4b2d820",
   "metadata": {},
   "outputs": [],
   "source": []
  }
 ],
 "metadata": {
  "kernelspec": {
   "display_name": "gvobs",
   "language": "python",
   "name": "python3"
  },
  "language_info": {
   "codemirror_mode": {
    "name": "ipython",
    "version": 3
   },
   "file_extension": ".py",
   "mimetype": "text/x-python",
   "name": "python",
   "nbconvert_exporter": "python",
   "pygments_lexer": "ipython3",
   "version": "3.11.13"
  }
 },
 "nbformat": 4,
 "nbformat_minor": 5
}
